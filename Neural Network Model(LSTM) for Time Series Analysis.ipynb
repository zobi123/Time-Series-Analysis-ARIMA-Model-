{
 "cells": [
  {
   "cell_type": "markdown",
   "metadata": {},
   "source": [
    "# PART 1. Data Pre-processing"
   ]
  },
  {
   "cell_type": "code",
   "execution_count": 1,
   "metadata": {},
   "outputs": [
    {
     "name": "stderr",
     "output_type": "stream",
     "text": [
      "C:\\Users\\zubai\\anaconda3\\lib\\site-packages\\tensorflow\\python\\framework\\dtypes.py:516: FutureWarning: Passing (type, 1) or '1type' as a synonym of type is deprecated; in a future version of numpy, it will be understood as (type, (1,)) / '(1,)type'.\n",
      "  _np_qint8 = np.dtype([(\"qint8\", np.int8, 1)])\n",
      "C:\\Users\\zubai\\anaconda3\\lib\\site-packages\\tensorflow\\python\\framework\\dtypes.py:517: FutureWarning: Passing (type, 1) or '1type' as a synonym of type is deprecated; in a future version of numpy, it will be understood as (type, (1,)) / '(1,)type'.\n",
      "  _np_quint8 = np.dtype([(\"quint8\", np.uint8, 1)])\n",
      "C:\\Users\\zubai\\anaconda3\\lib\\site-packages\\tensorflow\\python\\framework\\dtypes.py:518: FutureWarning: Passing (type, 1) or '1type' as a synonym of type is deprecated; in a future version of numpy, it will be understood as (type, (1,)) / '(1,)type'.\n",
      "  _np_qint16 = np.dtype([(\"qint16\", np.int16, 1)])\n",
      "C:\\Users\\zubai\\anaconda3\\lib\\site-packages\\tensorflow\\python\\framework\\dtypes.py:519: FutureWarning: Passing (type, 1) or '1type' as a synonym of type is deprecated; in a future version of numpy, it will be understood as (type, (1,)) / '(1,)type'.\n",
      "  _np_quint16 = np.dtype([(\"quint16\", np.uint16, 1)])\n",
      "C:\\Users\\zubai\\anaconda3\\lib\\site-packages\\tensorflow\\python\\framework\\dtypes.py:520: FutureWarning: Passing (type, 1) or '1type' as a synonym of type is deprecated; in a future version of numpy, it will be understood as (type, (1,)) / '(1,)type'.\n",
      "  _np_qint32 = np.dtype([(\"qint32\", np.int32, 1)])\n",
      "C:\\Users\\zubai\\anaconda3\\lib\\site-packages\\tensorflow\\python\\framework\\dtypes.py:525: FutureWarning: Passing (type, 1) or '1type' as a synonym of type is deprecated; in a future version of numpy, it will be understood as (type, (1,)) / '(1,)type'.\n",
      "  np_resource = np.dtype([(\"resource\", np.ubyte, 1)])\n",
      "C:\\Users\\zubai\\anaconda3\\lib\\site-packages\\tensorboard\\compat\\tensorflow_stub\\dtypes.py:541: FutureWarning: Passing (type, 1) or '1type' as a synonym of type is deprecated; in a future version of numpy, it will be understood as (type, (1,)) / '(1,)type'.\n",
      "  _np_qint8 = np.dtype([(\"qint8\", np.int8, 1)])\n",
      "C:\\Users\\zubai\\anaconda3\\lib\\site-packages\\tensorboard\\compat\\tensorflow_stub\\dtypes.py:542: FutureWarning: Passing (type, 1) or '1type' as a synonym of type is deprecated; in a future version of numpy, it will be understood as (type, (1,)) / '(1,)type'.\n",
      "  _np_quint8 = np.dtype([(\"quint8\", np.uint8, 1)])\n",
      "C:\\Users\\zubai\\anaconda3\\lib\\site-packages\\tensorboard\\compat\\tensorflow_stub\\dtypes.py:543: FutureWarning: Passing (type, 1) or '1type' as a synonym of type is deprecated; in a future version of numpy, it will be understood as (type, (1,)) / '(1,)type'.\n",
      "  _np_qint16 = np.dtype([(\"qint16\", np.int16, 1)])\n",
      "C:\\Users\\zubai\\anaconda3\\lib\\site-packages\\tensorboard\\compat\\tensorflow_stub\\dtypes.py:544: FutureWarning: Passing (type, 1) or '1type' as a synonym of type is deprecated; in a future version of numpy, it will be understood as (type, (1,)) / '(1,)type'.\n",
      "  _np_quint16 = np.dtype([(\"quint16\", np.uint16, 1)])\n",
      "C:\\Users\\zubai\\anaconda3\\lib\\site-packages\\tensorboard\\compat\\tensorflow_stub\\dtypes.py:545: FutureWarning: Passing (type, 1) or '1type' as a synonym of type is deprecated; in a future version of numpy, it will be understood as (type, (1,)) / '(1,)type'.\n",
      "  _np_qint32 = np.dtype([(\"qint32\", np.int32, 1)])\n",
      "C:\\Users\\zubai\\anaconda3\\lib\\site-packages\\tensorboard\\compat\\tensorflow_stub\\dtypes.py:550: FutureWarning: Passing (type, 1) or '1type' as a synonym of type is deprecated; in a future version of numpy, it will be understood as (type, (1,)) / '(1,)type'.\n",
      "  np_resource = np.dtype([(\"resource\", np.ubyte, 1)])\n"
     ]
    }
   ],
   "source": [
    "# Import modules and packages\n",
    "import numpy as np\n",
    "import pandas as pd\n",
    "import matplotlib.pyplot as plt\n",
    "import datetime as dt\n",
    "from datetime import datetime\n",
    "\n",
    "### Create the Stacked LSTM model\n",
    "from tensorflow.keras.models import Sequential\n",
    "from tensorflow.keras.layers import Dense\n",
    "from tensorflow.keras.layers import LSTM\n",
    "\n",
    "%matplotlib inline"
   ]
  },
  {
   "cell_type": "code",
   "execution_count": 2,
   "metadata": {},
   "outputs": [],
   "source": [
    "data=pd.read_csv('project_data.csv', header=None, names=[\"DayOrder\",\"Season\",\"DayOfWeek\",\"Period\",\"tij\"])"
   ]
  },
  {
   "cell_type": "code",
   "execution_count": 3,
   "metadata": {},
   "outputs": [
    {
     "data": {
      "text/html": [
       "<div>\n",
       "<style scoped>\n",
       "    .dataframe tbody tr th:only-of-type {\n",
       "        vertical-align: middle;\n",
       "    }\n",
       "\n",
       "    .dataframe tbody tr th {\n",
       "        vertical-align: top;\n",
       "    }\n",
       "\n",
       "    .dataframe thead th {\n",
       "        text-align: right;\n",
       "    }\n",
       "</style>\n",
       "<table border=\"1\" class=\"dataframe\">\n",
       "  <thead>\n",
       "    <tr style=\"text-align: right;\">\n",
       "      <th></th>\n",
       "      <th>DayOrder</th>\n",
       "      <th>Season</th>\n",
       "      <th>DayOfWeek</th>\n",
       "      <th>Period</th>\n",
       "      <th>tij</th>\n",
       "    </tr>\n",
       "  </thead>\n",
       "  <tbody>\n",
       "    <tr>\n",
       "      <th>0</th>\n",
       "      <td>*****************************</td>\n",
       "      <td>NaN</td>\n",
       "      <td>NaN</td>\n",
       "      <td>NaN</td>\n",
       "      <td>NaN</td>\n",
       "    </tr>\n",
       "    <tr>\n",
       "      <th>1</th>\n",
       "      <td>STUDENT:7:</td>\n",
       "      <td>\\tALHASAN,</td>\n",
       "      <td>FARIS</td>\n",
       "      <td>ABDULLAH</td>\n",
       "      <td>201637140</td>\n",
       "    </tr>\n",
       "    <tr>\n",
       "      <th>2</th>\n",
       "      <td>*****************************</td>\n",
       "      <td>NaN</td>\n",
       "      <td>NaN</td>\n",
       "      <td>NaN</td>\n",
       "      <td>NaN</td>\n",
       "    </tr>\n",
       "    <tr>\n",
       "      <th>3</th>\n",
       "      <td>Pin</td>\n",
       "      <td>1:00</td>\n",
       "      <td>49.268</td>\n",
       "      <td>,</td>\n",
       "      <td>-123.146</td>\n",
       "    </tr>\n",
       "    <tr>\n",
       "      <th>4</th>\n",
       "      <td>Pin</td>\n",
       "      <td>2:00</td>\n",
       "      <td>49.273</td>\n",
       "      <td>,</td>\n",
       "      <td>-123.249</td>\n",
       "    </tr>\n",
       "    <tr>\n",
       "      <th>5</th>\n",
       "      <td>Year</td>\n",
       "      <td>2017</td>\n",
       "      <td>NaN</td>\n",
       "      <td>NaN</td>\n",
       "      <td>NaN</td>\n",
       "    </tr>\n",
       "    <tr>\n",
       "      <th>6</th>\n",
       "      <td>DayOrder</td>\n",
       "      <td>Season</td>\n",
       "      <td>DayOfWeek</td>\n",
       "      <td>Period</td>\n",
       "      <td>tij</td>\n",
       "    </tr>\n",
       "    <tr>\n",
       "      <th>7</th>\n",
       "      <td>9</td>\n",
       "      <td>1</td>\n",
       "      <td>1</td>\n",
       "      <td>3</td>\n",
       "      <td>14.6104</td>\n",
       "    </tr>\n",
       "    <tr>\n",
       "      <th>8</th>\n",
       "      <td>196</td>\n",
       "      <td>2</td>\n",
       "      <td>6</td>\n",
       "      <td>2</td>\n",
       "      <td>7.1099</td>\n",
       "    </tr>\n",
       "    <tr>\n",
       "      <th>9</th>\n",
       "      <td>37</td>\n",
       "      <td>1</td>\n",
       "      <td>1</td>\n",
       "      <td>3</td>\n",
       "      <td>14.4066</td>\n",
       "    </tr>\n",
       "  </tbody>\n",
       "</table>\n",
       "</div>"
      ],
      "text/plain": [
       "                        DayOrder      Season  DayOfWeek    Period        tij\n",
       "0  *****************************         NaN        NaN       NaN        NaN\n",
       "1                     STUDENT:7:  \\tALHASAN,      FARIS  ABDULLAH  201637140\n",
       "2  *****************************         NaN        NaN       NaN        NaN\n",
       "3                            Pin        1:00     49.268         ,   -123.146\n",
       "4                            Pin        2:00     49.273         ,   -123.249\n",
       "5                           Year        2017        NaN       NaN        NaN\n",
       "6                       DayOrder      Season  DayOfWeek    Period        tij\n",
       "7                              9           1          1         3    14.6104\n",
       "8                            196           2          6         2     7.1099\n",
       "9                             37           1          1         3    14.4066"
      ]
     },
     "execution_count": 3,
     "metadata": {},
     "output_type": "execute_result"
    }
   ],
   "source": [
    "data.head(10)"
   ]
  },
  {
   "cell_type": "code",
   "execution_count": 4,
   "metadata": {},
   "outputs": [],
   "source": [
    "data.dropna(inplace=True)"
   ]
  },
  {
   "cell_type": "code",
   "execution_count": 5,
   "metadata": {},
   "outputs": [],
   "source": [
    "data=data.iloc[4:, 0:5]"
   ]
  },
  {
   "cell_type": "code",
   "execution_count": 6,
   "metadata": {},
   "outputs": [
    {
     "data": {
      "text/html": [
       "<div>\n",
       "<style scoped>\n",
       "    .dataframe tbody tr th:only-of-type {\n",
       "        vertical-align: middle;\n",
       "    }\n",
       "\n",
       "    .dataframe tbody tr th {\n",
       "        vertical-align: top;\n",
       "    }\n",
       "\n",
       "    .dataframe thead th {\n",
       "        text-align: right;\n",
       "    }\n",
       "</style>\n",
       "<table border=\"1\" class=\"dataframe\">\n",
       "  <thead>\n",
       "    <tr style=\"text-align: right;\">\n",
       "      <th></th>\n",
       "      <th>DayOrder</th>\n",
       "      <th>Season</th>\n",
       "      <th>DayOfWeek</th>\n",
       "      <th>Period</th>\n",
       "      <th>tij</th>\n",
       "    </tr>\n",
       "  </thead>\n",
       "  <tbody>\n",
       "    <tr>\n",
       "      <th>7</th>\n",
       "      <td>9</td>\n",
       "      <td>1</td>\n",
       "      <td>1</td>\n",
       "      <td>3</td>\n",
       "      <td>14.6104</td>\n",
       "    </tr>\n",
       "    <tr>\n",
       "      <th>8</th>\n",
       "      <td>196</td>\n",
       "      <td>2</td>\n",
       "      <td>6</td>\n",
       "      <td>2</td>\n",
       "      <td>7.1099</td>\n",
       "    </tr>\n",
       "    <tr>\n",
       "      <th>9</th>\n",
       "      <td>37</td>\n",
       "      <td>1</td>\n",
       "      <td>1</td>\n",
       "      <td>3</td>\n",
       "      <td>14.4066</td>\n",
       "    </tr>\n",
       "    <tr>\n",
       "      <th>10</th>\n",
       "      <td>338</td>\n",
       "      <td>1</td>\n",
       "      <td>1</td>\n",
       "      <td>3</td>\n",
       "      <td>9.13782</td>\n",
       "    </tr>\n",
       "    <tr>\n",
       "      <th>11</th>\n",
       "      <td>25</td>\n",
       "      <td>1</td>\n",
       "      <td>3</td>\n",
       "      <td>1</td>\n",
       "      <td>16.8157</td>\n",
       "    </tr>\n",
       "  </tbody>\n",
       "</table>\n",
       "</div>"
      ],
      "text/plain": [
       "   DayOrder Season DayOfWeek Period      tij\n",
       "7         9      1         1      3  14.6104\n",
       "8       196      2         6      2   7.1099\n",
       "9        37      1         1      3  14.4066\n",
       "10      338      1         1      3  9.13782\n",
       "11       25      1         3      1  16.8157"
      ]
     },
     "execution_count": 6,
     "metadata": {},
     "output_type": "execute_result"
    }
   ],
   "source": [
    "data.head()"
   ]
  },
  {
   "cell_type": "code",
   "execution_count": 7,
   "metadata": {},
   "outputs": [
    {
     "name": "stdout",
     "output_type": "stream",
     "text": [
      "<class 'pandas.core.frame.DataFrame'>\n",
      "Int64Index: 351 entries, 7 to 357\n",
      "Data columns (total 5 columns):\n",
      " #   Column     Non-Null Count  Dtype \n",
      "---  ------     --------------  ----- \n",
      " 0   DayOrder   351 non-null    object\n",
      " 1   Season     351 non-null    object\n",
      " 2   DayOfWeek  351 non-null    object\n",
      " 3   Period     351 non-null    object\n",
      " 4   tij        351 non-null    object\n",
      "dtypes: object(5)\n",
      "memory usage: 16.5+ KB\n"
     ]
    }
   ],
   "source": [
    "data.info()"
   ]
  },
  {
   "cell_type": "code",
   "execution_count": 8,
   "metadata": {},
   "outputs": [],
   "source": [
    "data['DayOrder']=data['DayOrder'].astype(str) "
   ]
  },
  {
   "cell_type": "code",
   "execution_count": 9,
   "metadata": {},
   "outputs": [
    {
     "name": "stdout",
     "output_type": "stream",
     "text": [
      "<class 'pandas.core.frame.DataFrame'>\n",
      "Int64Index: 351 entries, 7 to 357\n",
      "Data columns (total 5 columns):\n",
      " #   Column     Non-Null Count  Dtype \n",
      "---  ------     --------------  ----- \n",
      " 0   DayOrder   351 non-null    object\n",
      " 1   Season     351 non-null    object\n",
      " 2   DayOfWeek  351 non-null    object\n",
      " 3   Period     351 non-null    object\n",
      " 4   tij        351 non-null    object\n",
      "dtypes: object(5)\n",
      "memory usage: 16.5+ KB\n"
     ]
    }
   ],
   "source": [
    "data.info()"
   ]
  },
  {
   "cell_type": "code",
   "execution_count": 10,
   "metadata": {},
   "outputs": [],
   "source": [
    "data = data.astype('float')"
   ]
  },
  {
   "cell_type": "code",
   "execution_count": 11,
   "metadata": {},
   "outputs": [],
   "source": [
    "from sklearn.preprocessing import MinMaxScaler\n",
    "scaler=MinMaxScaler(feature_range=(0,1))\n",
    "df1=scaler.fit_transform(np.array(data).reshape(-1,1))"
   ]
  },
  {
   "cell_type": "code",
   "execution_count": 12,
   "metadata": {},
   "outputs": [],
   "source": [
    "\n",
    "##splitting dataset into train and test split\n",
    "training_size=int(len(df1)*0.65)\n",
    "test_size=len(df1)-training_size\n",
    "train_data,test_data=df1[0:training_size,:],df1[training_size:len(df1),:1]"
   ]
  },
  {
   "cell_type": "code",
   "execution_count": 13,
   "metadata": {},
   "outputs": [
    {
     "data": {
      "text/plain": [
       "(1140, 615)"
      ]
     },
     "execution_count": 13,
     "metadata": {},
     "output_type": "execute_result"
    }
   ],
   "source": [
    "training_size,test_size\n"
   ]
  },
  {
   "cell_type": "code",
   "execution_count": 14,
   "metadata": {},
   "outputs": [
    {
     "data": {
      "text/plain": [
       "array([[0.02472527],\n",
       "       [0.00274725],\n",
       "       [0.00274725],\n",
       "       ...,\n",
       "       [0.01098901],\n",
       "       [0.01098901],\n",
       "       [0.02933269]])"
      ]
     },
     "execution_count": 14,
     "metadata": {},
     "output_type": "execute_result"
    }
   ],
   "source": [
    "train_data\n"
   ]
  },
  {
   "cell_type": "code",
   "execution_count": 15,
   "metadata": {},
   "outputs": [],
   "source": [
    "# convert an array of values into a dataset matrix\n",
    "def create_dataset(dataset, time_step=1):\n",
    "\tdataX, dataY = [], []\n",
    "\tfor i in range(len(dataset)-time_step-1):\n",
    "\t\ta = dataset[i:(i+time_step), 0]   ###i=0, 0,1,2,3-----99   100 \n",
    "\t\tdataX.append(a)\n",
    "\t\tdataY.append(dataset[i + time_step, 0])\n",
    "\treturn numpy.array(dataX), numpy.array(dataY)"
   ]
  },
  {
   "cell_type": "code",
   "execution_count": 16,
   "metadata": {},
   "outputs": [],
   "source": [
    "# reshape into X=t,t+1,t+2,t+3 and Y=t+4\n",
    "import numpy \n",
    "time_step = 100\n",
    "X_train, y_train = create_dataset(train_data, time_step)\n",
    "X_test, ytest = create_dataset(test_data, time_step)"
   ]
  },
  {
   "cell_type": "code",
   "execution_count": 17,
   "metadata": {},
   "outputs": [
    {
     "name": "stdout",
     "output_type": "stream",
     "text": [
      "(1039, 100)\n",
      "(1039,)\n"
     ]
    },
    {
     "data": {
      "text/plain": [
       "(None, None)"
      ]
     },
     "execution_count": 17,
     "metadata": {},
     "output_type": "execute_result"
    }
   ],
   "source": [
    "print(X_train.shape), print(y_train.shape)\n"
   ]
  },
  {
   "cell_type": "code",
   "execution_count": 18,
   "metadata": {},
   "outputs": [
    {
     "name": "stdout",
     "output_type": "stream",
     "text": [
      "(514, 100)\n",
      "(514,)\n"
     ]
    },
    {
     "data": {
      "text/plain": [
       "(None, None)"
      ]
     },
     "execution_count": 18,
     "metadata": {},
     "output_type": "execute_result"
    }
   ],
   "source": [
    "print(X_test.shape), print(ytest.shape)\n"
   ]
  },
  {
   "cell_type": "code",
   "execution_count": 19,
   "metadata": {},
   "outputs": [],
   "source": [
    "\n",
    "# reshape input to be [samples, time steps, features] which is required for LSTM\n",
    "X_train =X_train.reshape(X_train.shape[0],X_train.shape[1] , 1)\n",
    "X_test = X_test.reshape(X_test.shape[0],X_test.shape[1] , 1)"
   ]
  },
  {
   "cell_type": "markdown",
   "metadata": {},
   "source": [
    "# Neural Netork Model(LSTM)"
   ]
  },
  {
   "cell_type": "code",
   "execution_count": 20,
   "metadata": {},
   "outputs": [
    {
     "name": "stdout",
     "output_type": "stream",
     "text": [
      "WARNING:tensorflow:From C:\\Users\\zubai\\anaconda3\\lib\\site-packages\\tensorflow\\python\\ops\\init_ops.py:1251: calling VarianceScaling.__init__ (from tensorflow.python.ops.init_ops) with dtype is deprecated and will be removed in a future version.\n",
      "Instructions for updating:\n",
      "Call initializer instance with the dtype argument instead of passing it to the constructor\n"
     ]
    }
   ],
   "source": [
    "model=Sequential()\n",
    "model.add(LSTM(50,return_sequences=True,input_shape=(100,1)))\n",
    "model.add(LSTM(50,return_sequences=True))\n",
    "model.add(LSTM(50))\n",
    "model.add(Dense(1))\n",
    "model.compile(loss='mean_squared_error',optimizer='adam')"
   ]
  },
  {
   "cell_type": "code",
   "execution_count": 21,
   "metadata": {},
   "outputs": [
    {
     "name": "stdout",
     "output_type": "stream",
     "text": [
      "Model: \"sequential\"\n",
      "_________________________________________________________________\n",
      "Layer (type)                 Output Shape              Param #   \n",
      "=================================================================\n",
      "lstm (LSTM)                  (None, 100, 50)           10400     \n",
      "_________________________________________________________________\n",
      "lstm_1 (LSTM)                (None, 100, 50)           20200     \n",
      "_________________________________________________________________\n",
      "lstm_2 (LSTM)                (None, 50)                20200     \n",
      "_________________________________________________________________\n",
      "dense (Dense)                (None, 1)                 51        \n",
      "=================================================================\n",
      "Total params: 50,851\n",
      "Trainable params: 50,851\n",
      "Non-trainable params: 0\n",
      "_________________________________________________________________\n"
     ]
    }
   ],
   "source": [
    "model.summary()\n"
   ]
  },
  {
   "cell_type": "code",
   "execution_count": 22,
   "metadata": {},
   "outputs": [
    {
     "name": "stdout",
     "output_type": "stream",
     "text": [
      "Train on 1039 samples, validate on 514 samples\n",
      "WARNING:tensorflow:From C:\\Users\\zubai\\anaconda3\\lib\\site-packages\\tensorflow\\python\\ops\\math_grad.py:1250: add_dispatch_support.<locals>.wrapper (from tensorflow.python.ops.array_ops) is deprecated and will be removed in a future version.\n",
      "Instructions for updating:\n",
      "Use tf.where in 2.0, which has the same broadcast rule as np.where\n",
      "Epoch 1/100\n",
      "1039/1039 [==============================] - 8s 8ms/sample - loss: 0.0632 - val_loss: 0.0662\n",
      "Epoch 2/100\n",
      "1039/1039 [==============================] - 5s 5ms/sample - loss: 0.0614 - val_loss: 0.0644\n",
      "Epoch 3/100\n",
      "1039/1039 [==============================] - 5s 5ms/sample - loss: 0.0608 - val_loss: 0.0645\n",
      "Epoch 4/100\n",
      "1039/1039 [==============================] - 5s 5ms/sample - loss: 0.0610 - val_loss: 0.0648\n",
      "Epoch 5/100\n",
      "1039/1039 [==============================] - 5s 5ms/sample - loss: 0.0609 - val_loss: 0.0640\n",
      "Epoch 6/100\n",
      "1039/1039 [==============================] - 5s 5ms/sample - loss: 0.0602 - val_loss: 0.0638\n",
      "Epoch 7/100\n",
      "1039/1039 [==============================] - 6s 6ms/sample - loss: 0.0599 - val_loss: 0.0636\n",
      "Epoch 8/100\n",
      "1039/1039 [==============================] - 6s 5ms/sample - loss: 0.0597 - val_loss: 0.0630\n",
      "Epoch 9/100\n",
      "1039/1039 [==============================] - 5s 5ms/sample - loss: 0.0591 - val_loss: 0.0621\n",
      "Epoch 10/100\n",
      "1039/1039 [==============================] - 5s 5ms/sample - loss: 0.0577 - val_loss: 0.0599\n",
      "Epoch 11/100\n",
      "1039/1039 [==============================] - 5s 5ms/sample - loss: 0.0557 - val_loss: 0.0555\n",
      "Epoch 12/100\n",
      "1039/1039 [==============================] - 6s 5ms/sample - loss: 0.0520 - val_loss: 0.0511\n",
      "Epoch 13/100\n",
      "1039/1039 [==============================] - 5s 5ms/sample - loss: 0.0503 - val_loss: 0.0504\n",
      "Epoch 14/100\n",
      "1039/1039 [==============================] - 6s 5ms/sample - loss: 0.0495 - val_loss: 0.0481\n",
      "Epoch 15/100\n",
      "1039/1039 [==============================] - 5s 5ms/sample - loss: 0.0482 - val_loss: 0.0445\n",
      "Epoch 16/100\n",
      "1039/1039 [==============================] - 5s 5ms/sample - loss: 0.0468 - val_loss: 0.0446\n",
      "Epoch 17/100\n",
      "1039/1039 [==============================] - 5s 5ms/sample - loss: 0.0443 - val_loss: 0.0406\n",
      "Epoch 18/100\n",
      "1039/1039 [==============================] - 6s 6ms/sample - loss: 0.0416 - val_loss: 0.0368\n",
      "Epoch 19/100\n",
      "1039/1039 [==============================] - 6s 6ms/sample - loss: 0.0383 - val_loss: 0.0323\n",
      "Epoch 20/100\n",
      "1039/1039 [==============================] - 5s 5ms/sample - loss: 0.0341 - val_loss: 0.0260\n",
      "Epoch 21/100\n",
      "1039/1039 [==============================] - 6s 6ms/sample - loss: 0.0264 - val_loss: 0.0202\n",
      "Epoch 22/100\n",
      "1039/1039 [==============================] - 6s 6ms/sample - loss: 0.0227 - val_loss: 0.0214\n",
      "Epoch 23/100\n",
      "1039/1039 [==============================] - 6s 6ms/sample - loss: 0.0217 - val_loss: 0.0185\n",
      "Epoch 24/100\n",
      "1039/1039 [==============================] - 6s 5ms/sample - loss: 0.0201 - val_loss: 0.0175\n",
      "Epoch 25/100\n",
      "1039/1039 [==============================] - 5s 5ms/sample - loss: 0.0199 - val_loss: 0.0198\n",
      "Epoch 26/100\n",
      "1039/1039 [==============================] - 5s 5ms/sample - loss: 0.0192 - val_loss: 0.0181\n",
      "Epoch 27/100\n",
      "1039/1039 [==============================] - 5s 5ms/sample - loss: 0.0190 - val_loss: 0.0170\n",
      "Epoch 28/100\n",
      "1039/1039 [==============================] - 5s 5ms/sample - loss: 0.0184 - val_loss: 0.0176\n",
      "Epoch 29/100\n",
      "1039/1039 [==============================] - 5s 5ms/sample - loss: 0.0185 - val_loss: 0.0174\n",
      "Epoch 30/100\n",
      "1039/1039 [==============================] - 5s 5ms/sample - loss: 0.0186 - val_loss: 0.0172\n",
      "Epoch 31/100\n",
      "1039/1039 [==============================] - 5s 5ms/sample - loss: 0.0180 - val_loss: 0.0169\n",
      "Epoch 32/100\n",
      "1039/1039 [==============================] - 5s 5ms/sample - loss: 0.0184 - val_loss: 0.0174\n",
      "Epoch 33/100\n",
      "1039/1039 [==============================] - 5s 5ms/sample - loss: 0.0185 - val_loss: 0.0168\n",
      "Epoch 34/100\n",
      "1039/1039 [==============================] - 5s 5ms/sample - loss: 0.0181 - val_loss: 0.0169\n",
      "Epoch 35/100\n",
      "1039/1039 [==============================] - 5s 5ms/sample - loss: 0.0186 - val_loss: 0.0192\n",
      "Epoch 36/100\n",
      "1039/1039 [==============================] - 5s 5ms/sample - loss: 0.0187 - val_loss: 0.0171\n",
      "Epoch 37/100\n",
      "1039/1039 [==============================] - 5s 5ms/sample - loss: 0.0189 - val_loss: 0.0168\n",
      "Epoch 38/100\n",
      "1039/1039 [==============================] - 5s 5ms/sample - loss: 0.0181 - val_loss: 0.0173\n",
      "Epoch 39/100\n",
      "1039/1039 [==============================] - 5s 5ms/sample - loss: 0.0187 - val_loss: 0.0174\n",
      "Epoch 40/100\n",
      "1039/1039 [==============================] - 5s 5ms/sample - loss: 0.0188 - val_loss: 0.0173\n",
      "Epoch 41/100\n",
      "1039/1039 [==============================] - 5s 5ms/sample - loss: 0.0183 - val_loss: 0.0171\n",
      "Epoch 42/100\n",
      "1039/1039 [==============================] - 5s 5ms/sample - loss: 0.0186 - val_loss: 0.0173\n",
      "Epoch 43/100\n",
      "1039/1039 [==============================] - 5s 5ms/sample - loss: 0.0180 - val_loss: 0.0180\n",
      "Epoch 44/100\n",
      "1039/1039 [==============================] - 5s 5ms/sample - loss: 0.0183 - val_loss: 0.0171\n",
      "Epoch 45/100\n",
      "1039/1039 [==============================] - 5s 5ms/sample - loss: 0.0181 - val_loss: 0.0167\n",
      "Epoch 46/100\n",
      "1039/1039 [==============================] - 5s 5ms/sample - loss: 0.0177 - val_loss: 0.0177\n",
      "Epoch 47/100\n",
      "1039/1039 [==============================] - 5s 5ms/sample - loss: 0.0180 - val_loss: 0.0168\n",
      "Epoch 48/100\n",
      "1039/1039 [==============================] - 5s 4ms/sample - loss: 0.0179 - val_loss: 0.0167\n",
      "Epoch 49/100\n",
      "1039/1039 [==============================] - 5s 5ms/sample - loss: 0.0182 - val_loss: 0.0173\n",
      "Epoch 50/100\n",
      "1039/1039 [==============================] - 6s 5ms/sample - loss: 0.0180 - val_loss: 0.0173\n",
      "Epoch 51/100\n",
      "1039/1039 [==============================] - 5s 5ms/sample - loss: 0.0177 - val_loss: 0.0167\n",
      "Epoch 52/100\n",
      "1039/1039 [==============================] - 4s 4ms/sample - loss: 0.0178 - val_loss: 0.0170\n",
      "Epoch 53/100\n",
      "1039/1039 [==============================] - 4s 4ms/sample - loss: 0.0178 - val_loss: 0.0167\n",
      "Epoch 54/100\n",
      "1039/1039 [==============================] - 4s 4ms/sample - loss: 0.0178 - val_loss: 0.0168\n",
      "Epoch 55/100\n",
      "1039/1039 [==============================] - 4s 4ms/sample - loss: 0.0182 - val_loss: 0.0169\n",
      "Epoch 56/100\n",
      "1039/1039 [==============================] - 4s 4ms/sample - loss: 0.0181 - val_loss: 0.0171\n",
      "Epoch 57/100\n",
      "1039/1039 [==============================] - 4s 4ms/sample - loss: 0.0178 - val_loss: 0.0173\n",
      "Epoch 58/100\n",
      "1039/1039 [==============================] - 4s 4ms/sample - loss: 0.0180 - val_loss: 0.0170\n",
      "Epoch 59/100\n",
      "1039/1039 [==============================] - 4s 4ms/sample - loss: 0.0179 - val_loss: 0.0170\n",
      "Epoch 60/100\n",
      "1039/1039 [==============================] - 4s 4ms/sample - loss: 0.0178 - val_loss: 0.0172\n",
      "Epoch 61/100\n",
      "1039/1039 [==============================] - 4s 4ms/sample - loss: 0.0179 - val_loss: 0.0178\n",
      "Epoch 62/100\n",
      "1039/1039 [==============================] - 4s 4ms/sample - loss: 0.0186 - val_loss: 0.0168\n",
      "Epoch 63/100\n",
      "1039/1039 [==============================] - 5s 4ms/sample - loss: 0.0181 - val_loss: 0.0178\n",
      "Epoch 64/100\n",
      "1039/1039 [==============================] - 4s 4ms/sample - loss: 0.0178 - val_loss: 0.0167\n",
      "Epoch 65/100\n",
      "1039/1039 [==============================] - 4s 4ms/sample - loss: 0.0177 - val_loss: 0.0173\n",
      "Epoch 66/100\n",
      "1039/1039 [==============================] - 4s 4ms/sample - loss: 0.0178 - val_loss: 0.0175\n",
      "Epoch 67/100\n",
      "1039/1039 [==============================] - 4s 4ms/sample - loss: 0.0185 - val_loss: 0.0170\n",
      "Epoch 68/100\n",
      "1039/1039 [==============================] - 4s 4ms/sample - loss: 0.0181 - val_loss: 0.0172\n",
      "Epoch 69/100\n",
      "1039/1039 [==============================] - 5s 4ms/sample - loss: 0.0178 - val_loss: 0.0171\n",
      "Epoch 70/100\n",
      "1039/1039 [==============================] - 4s 4ms/sample - loss: 0.0176 - val_loss: 0.0167\n",
      "Epoch 71/100\n",
      "1039/1039 [==============================] - 5s 4ms/sample - loss: 0.0184 - val_loss: 0.0176\n",
      "Epoch 72/100\n",
      "1039/1039 [==============================] - 5s 5ms/sample - loss: 0.0179 - val_loss: 0.0169\n",
      "Epoch 73/100\n",
      "1039/1039 [==============================] - 6s 5ms/sample - loss: 0.0179 - val_loss: 0.0183\n",
      "Epoch 74/100\n",
      "1039/1039 [==============================] - 5s 5ms/sample - loss: 0.0184 - val_loss: 0.0171\n"
     ]
    },
    {
     "name": "stdout",
     "output_type": "stream",
     "text": [
      "Epoch 75/100\n",
      "1039/1039 [==============================] - 5s 4ms/sample - loss: 0.0178 - val_loss: 0.0175\n",
      "Epoch 76/100\n",
      "1039/1039 [==============================] - 5s 4ms/sample - loss: 0.0181 - val_loss: 0.0167\n",
      "Epoch 77/100\n",
      "1039/1039 [==============================] - 5s 4ms/sample - loss: 0.0177 - val_loss: 0.0170\n",
      "Epoch 78/100\n",
      "1039/1039 [==============================] - 4s 4ms/sample - loss: 0.0177 - val_loss: 0.0166\n",
      "Epoch 79/100\n",
      "1039/1039 [==============================] - 6s 5ms/sample - loss: 0.0179 - val_loss: 0.0170\n",
      "Epoch 80/100\n",
      "1039/1039 [==============================] - 5s 5ms/sample - loss: 0.0179 - val_loss: 0.0175\n",
      "Epoch 81/100\n",
      "1039/1039 [==============================] - 6s 6ms/sample - loss: 0.0178 - val_loss: 0.0170\n",
      "Epoch 82/100\n",
      "1039/1039 [==============================] - 6s 5ms/sample - loss: 0.0177 - val_loss: 0.0169\n",
      "Epoch 83/100\n",
      "1039/1039 [==============================] - 6s 5ms/sample - loss: 0.0179 - val_loss: 0.0171\n",
      "Epoch 84/100\n",
      "1039/1039 [==============================] - 6s 5ms/sample - loss: 0.0179 - val_loss: 0.0175\n",
      "Epoch 85/100\n",
      "1039/1039 [==============================] - 6s 5ms/sample - loss: 0.0177 - val_loss: 0.0169\n",
      "Epoch 86/100\n",
      "1039/1039 [==============================] - 5s 5ms/sample - loss: 0.0176 - val_loss: 0.0169\n",
      "Epoch 87/100\n",
      "1039/1039 [==============================] - 5s 5ms/sample - loss: 0.0177 - val_loss: 0.0173\n",
      "Epoch 88/100\n",
      "1039/1039 [==============================] - 5s 5ms/sample - loss: 0.0178 - val_loss: 0.0168\n",
      "Epoch 89/100\n",
      "1039/1039 [==============================] - 5s 5ms/sample - loss: 0.0179 - val_loss: 0.0173\n",
      "Epoch 90/100\n",
      "1039/1039 [==============================] - 5s 4ms/sample - loss: 0.0179 - val_loss: 0.0163\n",
      "Epoch 91/100\n",
      "1039/1039 [==============================] - 4s 4ms/sample - loss: 0.0180 - val_loss: 0.0175\n",
      "Epoch 92/100\n",
      "1039/1039 [==============================] - 4s 4ms/sample - loss: 0.0179 - val_loss: 0.0171\n",
      "Epoch 93/100\n",
      "1039/1039 [==============================] - 4s 4ms/sample - loss: 0.0177 - val_loss: 0.0167\n",
      "Epoch 94/100\n",
      "1039/1039 [==============================] - 4s 4ms/sample - loss: 0.0177 - val_loss: 0.0168\n",
      "Epoch 95/100\n",
      "1039/1039 [==============================] - 4s 4ms/sample - loss: 0.0176 - val_loss: 0.0172\n",
      "Epoch 96/100\n",
      "1039/1039 [==============================] - 4s 4ms/sample - loss: 0.0178 - val_loss: 0.0168\n",
      "Epoch 97/100\n",
      "1039/1039 [==============================] - 4s 4ms/sample - loss: 0.0179 - val_loss: 0.0175\n",
      "Epoch 98/100\n",
      "1039/1039 [==============================] - 4s 4ms/sample - loss: 0.0176 - val_loss: 0.0169\n",
      "Epoch 99/100\n",
      "1039/1039 [==============================] - 4s 4ms/sample - loss: 0.0181 - val_loss: 0.0168\n",
      "Epoch 100/100\n",
      "1039/1039 [==============================] - 4s 4ms/sample - loss: 0.0184 - val_loss: 0.0174\n"
     ]
    },
    {
     "data": {
      "text/plain": [
       "<tensorflow.python.keras.callbacks.History at 0x1e35a3918c8>"
      ]
     },
     "execution_count": 22,
     "metadata": {},
     "output_type": "execute_result"
    }
   ],
   "source": [
    "model.fit(X_train,y_train,validation_data=(X_test,ytest),epochs=100,batch_size=64,verbose=1)\n"
   ]
  },
  {
   "cell_type": "code",
   "execution_count": 23,
   "metadata": {},
   "outputs": [],
   "source": [
    "### Lets Do the prediction and check performance metrics\n",
    "train_predict=model.predict(X_train)\n",
    "test_predict=model.predict(X_test)"
   ]
  },
  {
   "cell_type": "code",
   "execution_count": 24,
   "metadata": {},
   "outputs": [],
   "source": [
    "##Transformback to original form\n",
    "train_predict=scaler.inverse_transform(train_predict)\n",
    "test_predict=scaler.inverse_transform(test_predict)"
   ]
  },
  {
   "cell_type": "code",
   "execution_count": 25,
   "metadata": {},
   "outputs": [
    {
     "data": {
      "text/plain": [
       "97.59543848467305"
      ]
     },
     "execution_count": 25,
     "metadata": {},
     "output_type": "execute_result"
    }
   ],
   "source": [
    "### Calculate RMSE performance metrics\n",
    "import math\n",
    "from sklearn.metrics import mean_squared_error\n",
    "math.sqrt(mean_squared_error(y_train,train_predict))"
   ]
  },
  {
   "cell_type": "code",
   "execution_count": 26,
   "metadata": {},
   "outputs": [
    {
     "data": {
      "text/plain": [
       "96.70532738739827"
      ]
     },
     "execution_count": 26,
     "metadata": {},
     "output_type": "execute_result"
    }
   ],
   "source": [
    "\n",
    "### Test Data RMSE\n",
    "math.sqrt(mean_squared_error(ytest,test_predict))"
   ]
  },
  {
   "cell_type": "code",
   "execution_count": 27,
   "metadata": {},
   "outputs": [
    {
     "data": {
      "image/png": "[encoded data removed]",
      "text/plain": [
       "<Figure size 432x288 with 1 Axes>"
      ]
     },
     "metadata": {
      "needs_background": "light"
     },
     "output_type": "display_data"
    }
   ],
   "source": [
    "### Plotting \n",
    "# shift train predictions for plotting\n",
    "look_back=100\n",
    "trainPredictPlot = numpy.empty_like(df1)\n",
    "trainPredictPlot[:, :] = np.nan\n",
    "trainPredictPlot[look_back:len(train_predict)+look_back, :] = train_predict\n",
    "# shift test predictions for plotting\n",
    "testPredictPlot = numpy.empty_like(df1)\n",
    "testPredictPlot[:, :] = numpy.nan\n",
    "testPredictPlot[len(train_predict)+(look_back*2)+1:len(df1)-1, :] = test_predict\n",
    "# plot baseline and predictions\n",
    "plt.plot(scaler.inverse_transform(df1))\n",
    "plt.plot(trainPredictPlot)\n",
    "plt.plot(testPredictPlot)\n",
    "plt.show()"
   ]
  },
  {
   "cell_type": "code",
   "execution_count": 28,
   "metadata": {},
   "outputs": [
    {
     "data": {
      "text/plain": [
       "615"
      ]
     },
     "execution_count": 28,
     "metadata": {},
     "output_type": "execute_result"
    }
   ],
   "source": [
    "len(test_data)\n"
   ]
  },
  {
   "cell_type": "code",
   "execution_count": 29,
   "metadata": {},
   "outputs": [
    {
     "data": {
      "text/plain": [
       "(1, 100)"
      ]
     },
     "execution_count": 29,
     "metadata": {},
     "output_type": "execute_result"
    }
   ],
   "source": [
    "\n",
    "x_input=test_data[515:].reshape(1,-1)\n",
    "x_input.shape"
   ]
  },
  {
   "cell_type": "code",
   "execution_count": 30,
   "metadata": {},
   "outputs": [],
   "source": [
    "\n",
    "temp_input=list(x_input)\n",
    "temp_input=temp_input[0].tolist()"
   ]
  },
  {
   "cell_type": "code",
   "execution_count": 31,
   "metadata": {},
   "outputs": [
    {
     "data": {
      "text/plain": [
       "[0.5274725274725275,\n",
       " 0.005494505494505495,\n",
       " 0.01098901098901099,\n",
       " 0.008241758241758242,\n",
       " 0.045273351648351653,\n",
       " 0.5796703296703297,\n",
       " 0.005494505494505495,\n",
       " 0.005494505494505495,\n",
       " 0.01098901098901099,\n",
       " 0.03958104395604396,\n",
       " 0.7802197802197803,\n",
       " 0.008241758241758242,\n",
       " 0.013736263736263738,\n",
       " 0.01098901098901099,\n",
       " 0.03661538461538462,\n",
       " 0.7637362637362638,\n",
       " 0.008241758241758242,\n",
       " 0.016483516483516484,\n",
       " 0.005494505494505495,\n",
       " 0.03910879120879121,\n",
       " 0.8983516483516484,\n",
       " 0.0027472527472527475,\n",
       " 0.016483516483516484,\n",
       " 0.008241758241758242,\n",
       " 0.03702472527472528,\n",
       " 0.3543956043956044,\n",
       " 0.005494505494505495,\n",
       " 0.01098901098901099,\n",
       " 0.005494505494505495,\n",
       " 0.038027747252747254,\n",
       " 0.45054945054945056,\n",
       " 0.005494505494505495,\n",
       " 0.01098901098901099,\n",
       " 0.0027472527472527475,\n",
       " 0.03208379120879121,\n",
       " 0.271978021978022,\n",
       " 0.0027472527472527475,\n",
       " 0.005494505494505495,\n",
       " 0.008241758241758242,\n",
       " 0.021429945054945058,\n",
       " 0.9478021978021979,\n",
       " 0.0027472527472527475,\n",
       " 0.008241758241758242,\n",
       " 0.01098901098901099,\n",
       " 0.04882225274725275,\n",
       " 0.6428571428571429,\n",
       " 0.005494505494505495,\n",
       " 0.01098901098901099,\n",
       " 0.0027472527472527475,\n",
       " 0.03975741758241759,\n",
       " 0.5192307692307693,\n",
       " 0.005494505494505495,\n",
       " 0.0027472527472527475,\n",
       " 0.0027472527472527475,\n",
       " 0.037125824175824176,\n",
       " 0.7582417582417583,\n",
       " 0.008241758241758242,\n",
       " 0.01098901098901099,\n",
       " 0.0027472527472527475,\n",
       " 0.030935989010989012,\n",
       " 0.5879120879120879,\n",
       " 0.005494505494505495,\n",
       " 0.013736263736263738,\n",
       " 0.008241758241758242,\n",
       " 0.04488241758241759,\n",
       " 0.7500000000000001,\n",
       " 0.008241758241758242,\n",
       " 0.0027472527472527475,\n",
       " 0.01098901098901099,\n",
       " 0.03407637362637363,\n",
       " 0.33241758241758246,\n",
       " 0.005494505494505495,\n",
       " 0.008241758241758242,\n",
       " 0.005494505494505495,\n",
       " 0.03296813186813187,\n",
       " 0.0631868131868132,\n",
       " 0.0027472527472527475,\n",
       " 0.008241758241758242,\n",
       " 0.008241758241758242,\n",
       " 0.04680879120879121,\n",
       " 0.8351648351648352,\n",
       " 0.008241758241758242,\n",
       " 0.01098901098901099,\n",
       " 0.005494505494505495,\n",
       " 0.03288296703296704,\n",
       " 0.013736263736263738,\n",
       " 0.0027472527472527475,\n",
       " 0.0,\n",
       " 0.01098901098901099,\n",
       " 0.0,\n",
       " 0.29120879120879123,\n",
       " 0.0027472527472527475,\n",
       " 0.005494505494505495,\n",
       " 0.0027472527472527475,\n",
       " 0.05089615384615385,\n",
       " 0.14285714285714288,\n",
       " 0.0027472527472527475,\n",
       " 0.01098901098901099,\n",
       " 0.005494505494505495,\n",
       " 0.05131510989010989]"
      ]
     },
     "execution_count": 31,
     "metadata": {},
     "output_type": "execute_result"
    }
   ],
   "source": [
    "temp_input"
   ]
  },
  {
   "cell_type": "code",
   "execution_count": 32,
   "metadata": {},
   "outputs": [
    {
     "name": "stdout",
     "output_type": "stream",
     "text": [
      "[0.6962576]\n",
      "101\n",
      "1 day input [0.00549451 0.01098901 0.00824176 0.04527335 0.57967033 0.00549451\n",
      " 0.00549451 0.01098901 0.03958104 0.78021978 0.00824176 0.01373626\n",
      " 0.01098901 0.03661538 0.76373626 0.00824176 0.01648352 0.00549451\n",
      " 0.03910879 0.89835165 0.00274725 0.01648352 0.00824176 0.03702473\n",
      " 0.3543956  0.00549451 0.01098901 0.00549451 0.03802775 0.45054945\n",
      " 0.00549451 0.01098901 0.00274725 0.03208379 0.27197802 0.00274725\n",
      " 0.00549451 0.00824176 0.02142995 0.9478022  0.00274725 0.00824176\n",
      " 0.01098901 0.04882225 0.64285714 0.00549451 0.01098901 0.00274725\n",
      " 0.03975742 0.51923077 0.00549451 0.00274725 0.00274725 0.03712582\n",
      " 0.75824176 0.00824176 0.01098901 0.00274725 0.03093599 0.58791209\n",
      " 0.00549451 0.01373626 0.00824176 0.04488242 0.75       0.00824176\n",
      " 0.00274725 0.01098901 0.03407637 0.33241758 0.00549451 0.00824176\n",
      " 0.00549451 0.03296813 0.06318681 0.00274725 0.00824176 0.00824176\n",
      " 0.04680879 0.83516484 0.00824176 0.01098901 0.00549451 0.03288297\n",
      " 0.01373626 0.00274725 0.         0.01098901 0.         0.29120879\n",
      " 0.00274725 0.00549451 0.00274725 0.05089615 0.14285714 0.00274725\n",
      " 0.01098901 0.00549451 0.05131511 0.69625759]\n",
      "1 day output [[-0.02993647]]\n",
      "2 day input [ 0.01098901  0.00824176  0.04527335  0.57967033  0.00549451  0.00549451\n",
      "  0.01098901  0.03958104  0.78021978  0.00824176  0.01373626  0.01098901\n",
      "  0.03661538  0.76373626  0.00824176  0.01648352  0.00549451  0.03910879\n",
      "  0.89835165  0.00274725  0.01648352  0.00824176  0.03702473  0.3543956\n",
      "  0.00549451  0.01098901  0.00549451  0.03802775  0.45054945  0.00549451\n",
      "  0.01098901  0.00274725  0.03208379  0.27197802  0.00274725  0.00549451\n",
      "  0.00824176  0.02142995  0.9478022   0.00274725  0.00824176  0.01098901\n",
      "  0.04882225  0.64285714  0.00549451  0.01098901  0.00274725  0.03975742\n",
      "  0.51923077  0.00549451  0.00274725  0.00274725  0.03712582  0.75824176\n",
      "  0.00824176  0.01098901  0.00274725  0.03093599  0.58791209  0.00549451\n",
      "  0.01373626  0.00824176  0.04488242  0.75        0.00824176  0.00274725\n",
      "  0.01098901  0.03407637  0.33241758  0.00549451  0.00824176  0.00549451\n",
      "  0.03296813  0.06318681  0.00274725  0.00824176  0.00824176  0.04680879\n",
      "  0.83516484  0.00824176  0.01098901  0.00549451  0.03288297  0.01373626\n",
      "  0.00274725  0.          0.01098901  0.          0.29120879  0.00274725\n",
      "  0.00549451  0.00274725  0.05089615  0.14285714  0.00274725  0.01098901\n",
      "  0.00549451  0.05131511  0.69625759 -0.02993647]\n",
      "2 day output [[-0.00364241]]\n",
      "3 day input [ 0.00824176  0.04527335  0.57967033  0.00549451  0.00549451  0.01098901\n",
      "  0.03958104  0.78021978  0.00824176  0.01373626  0.01098901  0.03661538\n",
      "  0.76373626  0.00824176  0.01648352  0.00549451  0.03910879  0.89835165\n",
      "  0.00274725  0.01648352  0.00824176  0.03702473  0.3543956   0.00549451\n",
      "  0.01098901  0.00549451  0.03802775  0.45054945  0.00549451  0.01098901\n",
      "  0.00274725  0.03208379  0.27197802  0.00274725  0.00549451  0.00824176\n",
      "  0.02142995  0.9478022   0.00274725  0.00824176  0.01098901  0.04882225\n",
      "  0.64285714  0.00549451  0.01098901  0.00274725  0.03975742  0.51923077\n",
      "  0.00549451  0.00274725  0.00274725  0.03712582  0.75824176  0.00824176\n",
      "  0.01098901  0.00274725  0.03093599  0.58791209  0.00549451  0.01373626\n",
      "  0.00824176  0.04488242  0.75        0.00824176  0.00274725  0.01098901\n",
      "  0.03407637  0.33241758  0.00549451  0.00824176  0.00549451  0.03296813\n",
      "  0.06318681  0.00274725  0.00824176  0.00824176  0.04680879  0.83516484\n",
      "  0.00824176  0.01098901  0.00549451  0.03288297  0.01373626  0.00274725\n",
      "  0.          0.01098901  0.          0.29120879  0.00274725  0.00549451\n",
      "  0.00274725  0.05089615  0.14285714  0.00274725  0.01098901  0.00549451\n",
      "  0.05131511  0.69625759 -0.02993647 -0.00364241]\n",
      "3 day output [[0.01847458]]\n",
      "4 day input [ 0.04527335  0.57967033  0.00549451  0.00549451  0.01098901  0.03958104\n",
      "  0.78021978  0.00824176  0.01373626  0.01098901  0.03661538  0.76373626\n",
      "  0.00824176  0.01648352  0.00549451  0.03910879  0.89835165  0.00274725\n",
      "  0.01648352  0.00824176  0.03702473  0.3543956   0.00549451  0.01098901\n",
      "  0.00549451  0.03802775  0.45054945  0.00549451  0.01098901  0.00274725\n",
      "  0.03208379  0.27197802  0.00274725  0.00549451  0.00824176  0.02142995\n",
      "  0.9478022   0.00274725  0.00824176  0.01098901  0.04882225  0.64285714\n",
      "  0.00549451  0.01098901  0.00274725  0.03975742  0.51923077  0.00549451\n",
      "  0.00274725  0.00274725  0.03712582  0.75824176  0.00824176  0.01098901\n",
      "  0.00274725  0.03093599  0.58791209  0.00549451  0.01373626  0.00824176\n",
      "  0.04488242  0.75        0.00824176  0.00274725  0.01098901  0.03407637\n",
      "  0.33241758  0.00549451  0.00824176  0.00549451  0.03296813  0.06318681\n",
      "  0.00274725  0.00824176  0.00824176  0.04680879  0.83516484  0.00824176\n",
      "  0.01098901  0.00549451  0.03288297  0.01373626  0.00274725  0.\n",
      "  0.01098901  0.          0.29120879  0.00274725  0.00549451  0.00274725\n",
      "  0.05089615  0.14285714  0.00274725  0.01098901  0.00549451  0.05131511\n",
      "  0.69625759 -0.02993647 -0.00364241  0.01847458]\n",
      "4 day output [[0.01911467]]\n",
      "5 day input [ 0.57967033  0.00549451  0.00549451  0.01098901  0.03958104  0.78021978\n",
      "  0.00824176  0.01373626  0.01098901  0.03661538  0.76373626  0.00824176\n",
      "  0.01648352  0.00549451  0.03910879  0.89835165  0.00274725  0.01648352\n",
      "  0.00824176  0.03702473  0.3543956   0.00549451  0.01098901  0.00549451\n",
      "  0.03802775  0.45054945  0.00549451  0.01098901  0.00274725  0.03208379\n",
      "  0.27197802  0.00274725  0.00549451  0.00824176  0.02142995  0.9478022\n",
      "  0.00274725  0.00824176  0.01098901  0.04882225  0.64285714  0.00549451\n",
      "  0.01098901  0.00274725  0.03975742  0.51923077  0.00549451  0.00274725\n",
      "  0.00274725  0.03712582  0.75824176  0.00824176  0.01098901  0.00274725\n",
      "  0.03093599  0.58791209  0.00549451  0.01373626  0.00824176  0.04488242\n",
      "  0.75        0.00824176  0.00274725  0.01098901  0.03407637  0.33241758\n",
      "  0.00549451  0.00824176  0.00549451  0.03296813  0.06318681  0.00274725\n",
      "  0.00824176  0.00824176  0.04680879  0.83516484  0.00824176  0.01098901\n",
      "  0.00549451  0.03288297  0.01373626  0.00274725  0.          0.01098901\n",
      "  0.          0.29120879  0.00274725  0.00549451  0.00274725  0.05089615\n",
      "  0.14285714  0.00274725  0.01098901  0.00549451  0.05131511  0.69625759\n",
      " -0.02993647 -0.00364241  0.01847458  0.01911467]\n",
      "5 day output [[0.5459329]]\n",
      "6 day input [ 0.00549451  0.00549451  0.01098901  0.03958104  0.78021978  0.00824176\n",
      "  0.01373626  0.01098901  0.03661538  0.76373626  0.00824176  0.01648352\n",
      "  0.00549451  0.03910879  0.89835165  0.00274725  0.01648352  0.00824176\n",
      "  0.03702473  0.3543956   0.00549451  0.01098901  0.00549451  0.03802775\n",
      "  0.45054945  0.00549451  0.01098901  0.00274725  0.03208379  0.27197802\n",
      "  0.00274725  0.00549451  0.00824176  0.02142995  0.9478022   0.00274725\n",
      "  0.00824176  0.01098901  0.04882225  0.64285714  0.00549451  0.01098901\n",
      "  0.00274725  0.03975742  0.51923077  0.00549451  0.00274725  0.00274725\n",
      "  0.03712582  0.75824176  0.00824176  0.01098901  0.00274725  0.03093599\n",
      "  0.58791209  0.00549451  0.01373626  0.00824176  0.04488242  0.75\n",
      "  0.00824176  0.00274725  0.01098901  0.03407637  0.33241758  0.00549451\n",
      "  0.00824176  0.00549451  0.03296813  0.06318681  0.00274725  0.00824176\n",
      "  0.00824176  0.04680879  0.83516484  0.00824176  0.01098901  0.00549451\n",
      "  0.03288297  0.01373626  0.00274725  0.          0.01098901  0.\n",
      "  0.29120879  0.00274725  0.00549451  0.00274725  0.05089615  0.14285714\n",
      "  0.00274725  0.01098901  0.00549451  0.05131511  0.69625759 -0.02993647\n",
      " -0.00364241  0.01847458  0.01911467  0.54593289]\n",
      "6 day output [[0.00238512]]\n",
      "7 day input [ 0.00549451  0.01098901  0.03958104  0.78021978  0.00824176  0.01373626\n",
      "  0.01098901  0.03661538  0.76373626  0.00824176  0.01648352  0.00549451\n",
      "  0.03910879  0.89835165  0.00274725  0.01648352  0.00824176  0.03702473\n",
      "  0.3543956   0.00549451  0.01098901  0.00549451  0.03802775  0.45054945\n",
      "  0.00549451  0.01098901  0.00274725  0.03208379  0.27197802  0.00274725\n",
      "  0.00549451  0.00824176  0.02142995  0.9478022   0.00274725  0.00824176\n",
      "  0.01098901  0.04882225  0.64285714  0.00549451  0.01098901  0.00274725\n",
      "  0.03975742  0.51923077  0.00549451  0.00274725  0.00274725  0.03712582\n",
      "  0.75824176  0.00824176  0.01098901  0.00274725  0.03093599  0.58791209\n",
      "  0.00549451  0.01373626  0.00824176  0.04488242  0.75        0.00824176\n",
      "  0.00274725  0.01098901  0.03407637  0.33241758  0.00549451  0.00824176\n",
      "  0.00549451  0.03296813  0.06318681  0.00274725  0.00824176  0.00824176\n",
      "  0.04680879  0.83516484  0.00824176  0.01098901  0.00549451  0.03288297\n",
      "  0.01373626  0.00274725  0.          0.01098901  0.          0.29120879\n",
      "  0.00274725  0.00549451  0.00274725  0.05089615  0.14285714  0.00274725\n",
      "  0.01098901  0.00549451  0.05131511  0.69625759 -0.02993647 -0.00364241\n",
      "  0.01847458  0.01911467  0.54593289  0.00238512]\n",
      "7 day output [[0.0091427]]\n",
      "8 day input [ 0.01098901  0.03958104  0.78021978  0.00824176  0.01373626  0.01098901\n",
      "  0.03661538  0.76373626  0.00824176  0.01648352  0.00549451  0.03910879\n",
      "  0.89835165  0.00274725  0.01648352  0.00824176  0.03702473  0.3543956\n",
      "  0.00549451  0.01098901  0.00549451  0.03802775  0.45054945  0.00549451\n",
      "  0.01098901  0.00274725  0.03208379  0.27197802  0.00274725  0.00549451\n",
      "  0.00824176  0.02142995  0.9478022   0.00274725  0.00824176  0.01098901\n",
      "  0.04882225  0.64285714  0.00549451  0.01098901  0.00274725  0.03975742\n",
      "  0.51923077  0.00549451  0.00274725  0.00274725  0.03712582  0.75824176\n",
      "  0.00824176  0.01098901  0.00274725  0.03093599  0.58791209  0.00549451\n",
      "  0.01373626  0.00824176  0.04488242  0.75        0.00824176  0.00274725\n",
      "  0.01098901  0.03407637  0.33241758  0.00549451  0.00824176  0.00549451\n",
      "  0.03296813  0.06318681  0.00274725  0.00824176  0.00824176  0.04680879\n",
      "  0.83516484  0.00824176  0.01098901  0.00549451  0.03288297  0.01373626\n",
      "  0.00274725  0.          0.01098901  0.          0.29120879  0.00274725\n",
      "  0.00549451  0.00274725  0.05089615  0.14285714  0.00274725  0.01098901\n",
      "  0.00549451  0.05131511  0.69625759 -0.02993647 -0.00364241  0.01847458\n",
      "  0.01911467  0.54593289  0.00238512  0.0091427 ]\n",
      "8 day output [[0.02107451]]\n",
      "9 day input [ 0.03958104  0.78021978  0.00824176  0.01373626  0.01098901  0.03661538\n",
      "  0.76373626  0.00824176  0.01648352  0.00549451  0.03910879  0.89835165\n",
      "  0.00274725  0.01648352  0.00824176  0.03702473  0.3543956   0.00549451\n",
      "  0.01098901  0.00549451  0.03802775  0.45054945  0.00549451  0.01098901\n",
      "  0.00274725  0.03208379  0.27197802  0.00274725  0.00549451  0.00824176\n",
      "  0.02142995  0.9478022   0.00274725  0.00824176  0.01098901  0.04882225\n",
      "  0.64285714  0.00549451  0.01098901  0.00274725  0.03975742  0.51923077\n",
      "  0.00549451  0.00274725  0.00274725  0.03712582  0.75824176  0.00824176\n",
      "  0.01098901  0.00274725  0.03093599  0.58791209  0.00549451  0.01373626\n",
      "  0.00824176  0.04488242  0.75        0.00824176  0.00274725  0.01098901\n",
      "  0.03407637  0.33241758  0.00549451  0.00824176  0.00549451  0.03296813\n",
      "  0.06318681  0.00274725  0.00824176  0.00824176  0.04680879  0.83516484\n",
      "  0.00824176  0.01098901  0.00549451  0.03288297  0.01373626  0.00274725\n",
      "  0.          0.01098901  0.          0.29120879  0.00274725  0.00549451\n",
      "  0.00274725  0.05089615  0.14285714  0.00274725  0.01098901  0.00549451\n",
      "  0.05131511  0.69625759 -0.02993647 -0.00364241  0.01847458  0.01911467\n",
      "  0.54593289  0.00238512  0.0091427   0.02107451]\n",
      "9 day output [[0.06648957]]\n",
      "10 day input [ 0.78021978  0.00824176  0.01373626  0.01098901  0.03661538  0.76373626\n",
      "  0.00824176  0.01648352  0.00549451  0.03910879  0.89835165  0.00274725\n",
      "  0.01648352  0.00824176  0.03702473  0.3543956   0.00549451  0.01098901\n",
      "  0.00549451  0.03802775  0.45054945  0.00549451  0.01098901  0.00274725\n",
      "  0.03208379  0.27197802  0.00274725  0.00549451  0.00824176  0.02142995\n",
      "  0.9478022   0.00274725  0.00824176  0.01098901  0.04882225  0.64285714\n",
      "  0.00549451  0.01098901  0.00274725  0.03975742  0.51923077  0.00549451\n",
      "  0.00274725  0.00274725  0.03712582  0.75824176  0.00824176  0.01098901\n",
      "  0.00274725  0.03093599  0.58791209  0.00549451  0.01373626  0.00824176\n",
      "  0.04488242  0.75        0.00824176  0.00274725  0.01098901  0.03407637\n",
      "  0.33241758  0.00549451  0.00824176  0.00549451  0.03296813  0.06318681\n",
      "  0.00274725  0.00824176  0.00824176  0.04680879  0.83516484  0.00824176\n",
      "  0.01098901  0.00549451  0.03288297  0.01373626  0.00274725  0.\n",
      "  0.01098901  0.          0.29120879  0.00274725  0.00549451  0.00274725\n",
      "  0.05089615  0.14285714  0.00274725  0.01098901  0.00549451  0.05131511\n",
      "  0.69625759 -0.02993647 -0.00364241  0.01847458  0.01911467  0.54593289\n",
      "  0.00238512  0.0091427   0.02107451  0.06648957]\n",
      "10 day output [[0.626953]]\n",
      "11 day input [ 0.00824176  0.01373626  0.01098901  0.03661538  0.76373626  0.00824176\n",
      "  0.01648352  0.00549451  0.03910879  0.89835165  0.00274725  0.01648352\n",
      "  0.00824176  0.03702473  0.3543956   0.00549451  0.01098901  0.00549451\n",
      "  0.03802775  0.45054945  0.00549451  0.01098901  0.00274725  0.03208379\n",
      "  0.27197802  0.00274725  0.00549451  0.00824176  0.02142995  0.9478022\n",
      "  0.00274725  0.00824176  0.01098901  0.04882225  0.64285714  0.00549451\n",
      "  0.01098901  0.00274725  0.03975742  0.51923077  0.00549451  0.00274725\n",
      "  0.00274725  0.03712582  0.75824176  0.00824176  0.01098901  0.00274725\n",
      "  0.03093599  0.58791209  0.00549451  0.01373626  0.00824176  0.04488242\n",
      "  0.75        0.00824176  0.00274725  0.01098901  0.03407637  0.33241758\n",
      "  0.00549451  0.00824176  0.00549451  0.03296813  0.06318681  0.00274725\n",
      "  0.00824176  0.00824176  0.04680879  0.83516484  0.00824176  0.01098901\n",
      "  0.00549451  0.03288297  0.01373626  0.00274725  0.          0.01098901\n",
      "  0.          0.29120879  0.00274725  0.00549451  0.00274725  0.05089615\n",
      "  0.14285714  0.00274725  0.01098901  0.00549451  0.05131511  0.69625759\n",
      " -0.02993647 -0.00364241  0.01847458  0.01911467  0.54593289  0.00238512\n",
      "  0.0091427   0.02107451  0.06648957  0.62695301]\n"
     ]
    },
    {
     "name": "stdout",
     "output_type": "stream",
     "text": [
      "11 day output [[-0.02394742]]\n",
      "12 day input [ 0.01373626  0.01098901  0.03661538  0.76373626  0.00824176  0.01648352\n",
      "  0.00549451  0.03910879  0.89835165  0.00274725  0.01648352  0.00824176\n",
      "  0.03702473  0.3543956   0.00549451  0.01098901  0.00549451  0.03802775\n",
      "  0.45054945  0.00549451  0.01098901  0.00274725  0.03208379  0.27197802\n",
      "  0.00274725  0.00549451  0.00824176  0.02142995  0.9478022   0.00274725\n",
      "  0.00824176  0.01098901  0.04882225  0.64285714  0.00549451  0.01098901\n",
      "  0.00274725  0.03975742  0.51923077  0.00549451  0.00274725  0.00274725\n",
      "  0.03712582  0.75824176  0.00824176  0.01098901  0.00274725  0.03093599\n",
      "  0.58791209  0.00549451  0.01373626  0.00824176  0.04488242  0.75\n",
      "  0.00824176  0.00274725  0.01098901  0.03407637  0.33241758  0.00549451\n",
      "  0.00824176  0.00549451  0.03296813  0.06318681  0.00274725  0.00824176\n",
      "  0.00824176  0.04680879  0.83516484  0.00824176  0.01098901  0.00549451\n",
      "  0.03288297  0.01373626  0.00274725  0.          0.01098901  0.\n",
      "  0.29120879  0.00274725  0.00549451  0.00274725  0.05089615  0.14285714\n",
      "  0.00274725  0.01098901  0.00549451  0.05131511  0.69625759 -0.02993647\n",
      " -0.00364241  0.01847458  0.01911467  0.54593289  0.00238512  0.0091427\n",
      "  0.02107451  0.06648957  0.62695301 -0.02394742]\n",
      "12 day output [[0.00255131]]\n",
      "13 day input [ 0.01098901  0.03661538  0.76373626  0.00824176  0.01648352  0.00549451\n",
      "  0.03910879  0.89835165  0.00274725  0.01648352  0.00824176  0.03702473\n",
      "  0.3543956   0.00549451  0.01098901  0.00549451  0.03802775  0.45054945\n",
      "  0.00549451  0.01098901  0.00274725  0.03208379  0.27197802  0.00274725\n",
      "  0.00549451  0.00824176  0.02142995  0.9478022   0.00274725  0.00824176\n",
      "  0.01098901  0.04882225  0.64285714  0.00549451  0.01098901  0.00274725\n",
      "  0.03975742  0.51923077  0.00549451  0.00274725  0.00274725  0.03712582\n",
      "  0.75824176  0.00824176  0.01098901  0.00274725  0.03093599  0.58791209\n",
      "  0.00549451  0.01373626  0.00824176  0.04488242  0.75        0.00824176\n",
      "  0.00274725  0.01098901  0.03407637  0.33241758  0.00549451  0.00824176\n",
      "  0.00549451  0.03296813  0.06318681  0.00274725  0.00824176  0.00824176\n",
      "  0.04680879  0.83516484  0.00824176  0.01098901  0.00549451  0.03288297\n",
      "  0.01373626  0.00274725  0.          0.01098901  0.          0.29120879\n",
      "  0.00274725  0.00549451  0.00274725  0.05089615  0.14285714  0.00274725\n",
      "  0.01098901  0.00549451  0.05131511  0.69625759 -0.02993647 -0.00364241\n",
      "  0.01847458  0.01911467  0.54593289  0.00238512  0.0091427   0.02107451\n",
      "  0.06648957  0.62695301 -0.02394742  0.00255131]\n",
      "13 day output [[0.01414635]]\n",
      "14 day input [ 0.03661538  0.76373626  0.00824176  0.01648352  0.00549451  0.03910879\n",
      "  0.89835165  0.00274725  0.01648352  0.00824176  0.03702473  0.3543956\n",
      "  0.00549451  0.01098901  0.00549451  0.03802775  0.45054945  0.00549451\n",
      "  0.01098901  0.00274725  0.03208379  0.27197802  0.00274725  0.00549451\n",
      "  0.00824176  0.02142995  0.9478022   0.00274725  0.00824176  0.01098901\n",
      "  0.04882225  0.64285714  0.00549451  0.01098901  0.00274725  0.03975742\n",
      "  0.51923077  0.00549451  0.00274725  0.00274725  0.03712582  0.75824176\n",
      "  0.00824176  0.01098901  0.00274725  0.03093599  0.58791209  0.00549451\n",
      "  0.01373626  0.00824176  0.04488242  0.75        0.00824176  0.00274725\n",
      "  0.01098901  0.03407637  0.33241758  0.00549451  0.00824176  0.00549451\n",
      "  0.03296813  0.06318681  0.00274725  0.00824176  0.00824176  0.04680879\n",
      "  0.83516484  0.00824176  0.01098901  0.00549451  0.03288297  0.01373626\n",
      "  0.00274725  0.          0.01098901  0.          0.29120879  0.00274725\n",
      "  0.00549451  0.00274725  0.05089615  0.14285714  0.00274725  0.01098901\n",
      "  0.00549451  0.05131511  0.69625759 -0.02993647 -0.00364241  0.01847458\n",
      "  0.01911467  0.54593289  0.00238512  0.0091427   0.02107451  0.06648957\n",
      "  0.62695301 -0.02394742  0.00255131  0.01414635]\n",
      "14 day output [[0.04566415]]\n",
      "15 day input [ 0.76373626  0.00824176  0.01648352  0.00549451  0.03910879  0.89835165\n",
      "  0.00274725  0.01648352  0.00824176  0.03702473  0.3543956   0.00549451\n",
      "  0.01098901  0.00549451  0.03802775  0.45054945  0.00549451  0.01098901\n",
      "  0.00274725  0.03208379  0.27197802  0.00274725  0.00549451  0.00824176\n",
      "  0.02142995  0.9478022   0.00274725  0.00824176  0.01098901  0.04882225\n",
      "  0.64285714  0.00549451  0.01098901  0.00274725  0.03975742  0.51923077\n",
      "  0.00549451  0.00274725  0.00274725  0.03712582  0.75824176  0.00824176\n",
      "  0.01098901  0.00274725  0.03093599  0.58791209  0.00549451  0.01373626\n",
      "  0.00824176  0.04488242  0.75        0.00824176  0.00274725  0.01098901\n",
      "  0.03407637  0.33241758  0.00549451  0.00824176  0.00549451  0.03296813\n",
      "  0.06318681  0.00274725  0.00824176  0.00824176  0.04680879  0.83516484\n",
      "  0.00824176  0.01098901  0.00549451  0.03288297  0.01373626  0.00274725\n",
      "  0.          0.01098901  0.          0.29120879  0.00274725  0.00549451\n",
      "  0.00274725  0.05089615  0.14285714  0.00274725  0.01098901  0.00549451\n",
      "  0.05131511  0.69625759 -0.02993647 -0.00364241  0.01847458  0.01911467\n",
      "  0.54593289  0.00238512  0.0091427   0.02107451  0.06648957  0.62695301\n",
      " -0.02394742  0.00255131  0.01414635  0.04566415]\n",
      "15 day output [[0.55534863]]\n",
      "16 day input [ 0.00824176  0.01648352  0.00549451  0.03910879  0.89835165  0.00274725\n",
      "  0.01648352  0.00824176  0.03702473  0.3543956   0.00549451  0.01098901\n",
      "  0.00549451  0.03802775  0.45054945  0.00549451  0.01098901  0.00274725\n",
      "  0.03208379  0.27197802  0.00274725  0.00549451  0.00824176  0.02142995\n",
      "  0.9478022   0.00274725  0.00824176  0.01098901  0.04882225  0.64285714\n",
      "  0.00549451  0.01098901  0.00274725  0.03975742  0.51923077  0.00549451\n",
      "  0.00274725  0.00274725  0.03712582  0.75824176  0.00824176  0.01098901\n",
      "  0.00274725  0.03093599  0.58791209  0.00549451  0.01373626  0.00824176\n",
      "  0.04488242  0.75        0.00824176  0.00274725  0.01098901  0.03407637\n",
      "  0.33241758  0.00549451  0.00824176  0.00549451  0.03296813  0.06318681\n",
      "  0.00274725  0.00824176  0.00824176  0.04680879  0.83516484  0.00824176\n",
      "  0.01098901  0.00549451  0.03288297  0.01373626  0.00274725  0.\n",
      "  0.01098901  0.          0.29120879  0.00274725  0.00549451  0.00274725\n",
      "  0.05089615  0.14285714  0.00274725  0.01098901  0.00549451  0.05131511\n",
      "  0.69625759 -0.02993647 -0.00364241  0.01847458  0.01911467  0.54593289\n",
      "  0.00238512  0.0091427   0.02107451  0.06648957  0.62695301 -0.02394742\n",
      "  0.00255131  0.01414635  0.04566415  0.55534863]\n",
      "16 day output [[-0.00904792]]\n",
      "17 day input [ 0.01648352  0.00549451  0.03910879  0.89835165  0.00274725  0.01648352\n",
      "  0.00824176  0.03702473  0.3543956   0.00549451  0.01098901  0.00549451\n",
      "  0.03802775  0.45054945  0.00549451  0.01098901  0.00274725  0.03208379\n",
      "  0.27197802  0.00274725  0.00549451  0.00824176  0.02142995  0.9478022\n",
      "  0.00274725  0.00824176  0.01098901  0.04882225  0.64285714  0.00549451\n",
      "  0.01098901  0.00274725  0.03975742  0.51923077  0.00549451  0.00274725\n",
      "  0.00274725  0.03712582  0.75824176  0.00824176  0.01098901  0.00274725\n",
      "  0.03093599  0.58791209  0.00549451  0.01373626  0.00824176  0.04488242\n",
      "  0.75        0.00824176  0.00274725  0.01098901  0.03407637  0.33241758\n",
      "  0.00549451  0.00824176  0.00549451  0.03296813  0.06318681  0.00274725\n",
      "  0.00824176  0.00824176  0.04680879  0.83516484  0.00824176  0.01098901\n",
      "  0.00549451  0.03288297  0.01373626  0.00274725  0.          0.01098901\n",
      "  0.          0.29120879  0.00274725  0.00549451  0.00274725  0.05089615\n",
      "  0.14285714  0.00274725  0.01098901  0.00549451  0.05131511  0.69625759\n",
      " -0.02993647 -0.00364241  0.01847458  0.01911467  0.54593289  0.00238512\n",
      "  0.0091427   0.02107451  0.06648957  0.62695301 -0.02394742  0.00255131\n",
      "  0.01414635  0.04566415  0.55534863 -0.00904792]\n",
      "17 day output [[0.00788499]]\n",
      "18 day input [ 0.00549451  0.03910879  0.89835165  0.00274725  0.01648352  0.00824176\n",
      "  0.03702473  0.3543956   0.00549451  0.01098901  0.00549451  0.03802775\n",
      "  0.45054945  0.00549451  0.01098901  0.00274725  0.03208379  0.27197802\n",
      "  0.00274725  0.00549451  0.00824176  0.02142995  0.9478022   0.00274725\n",
      "  0.00824176  0.01098901  0.04882225  0.64285714  0.00549451  0.01098901\n",
      "  0.00274725  0.03975742  0.51923077  0.00549451  0.00274725  0.00274725\n",
      "  0.03712582  0.75824176  0.00824176  0.01098901  0.00274725  0.03093599\n",
      "  0.58791209  0.00549451  0.01373626  0.00824176  0.04488242  0.75\n",
      "  0.00824176  0.00274725  0.01098901  0.03407637  0.33241758  0.00549451\n",
      "  0.00824176  0.00549451  0.03296813  0.06318681  0.00274725  0.00824176\n",
      "  0.00824176  0.04680879  0.83516484  0.00824176  0.01098901  0.00549451\n",
      "  0.03288297  0.01373626  0.00274725  0.          0.01098901  0.\n",
      "  0.29120879  0.00274725  0.00549451  0.00274725  0.05089615  0.14285714\n",
      "  0.00274725  0.01098901  0.00549451  0.05131511  0.69625759 -0.02993647\n",
      " -0.00364241  0.01847458  0.01911467  0.54593289  0.00238512  0.0091427\n",
      "  0.02107451  0.06648957  0.62695301 -0.02394742  0.00255131  0.01414635\n",
      "  0.04566415  0.55534863 -0.00904792  0.00788499]\n",
      "18 day output [[0.01437743]]\n",
      "19 day input [ 0.03910879  0.89835165  0.00274725  0.01648352  0.00824176  0.03702473\n",
      "  0.3543956   0.00549451  0.01098901  0.00549451  0.03802775  0.45054945\n",
      "  0.00549451  0.01098901  0.00274725  0.03208379  0.27197802  0.00274725\n",
      "  0.00549451  0.00824176  0.02142995  0.9478022   0.00274725  0.00824176\n",
      "  0.01098901  0.04882225  0.64285714  0.00549451  0.01098901  0.00274725\n",
      "  0.03975742  0.51923077  0.00549451  0.00274725  0.00274725  0.03712582\n",
      "  0.75824176  0.00824176  0.01098901  0.00274725  0.03093599  0.58791209\n",
      "  0.00549451  0.01373626  0.00824176  0.04488242  0.75        0.00824176\n",
      "  0.00274725  0.01098901  0.03407637  0.33241758  0.00549451  0.00824176\n",
      "  0.00549451  0.03296813  0.06318681  0.00274725  0.00824176  0.00824176\n",
      "  0.04680879  0.83516484  0.00824176  0.01098901  0.00549451  0.03288297\n",
      "  0.01373626  0.00274725  0.          0.01098901  0.          0.29120879\n",
      "  0.00274725  0.00549451  0.00274725  0.05089615  0.14285714  0.00274725\n",
      "  0.01098901  0.00549451  0.05131511  0.69625759 -0.02993647 -0.00364241\n",
      "  0.01847458  0.01911467  0.54593289  0.00238512  0.0091427   0.02107451\n",
      "  0.06648957  0.62695301 -0.02394742  0.00255131  0.01414635  0.04566415\n",
      "  0.55534863 -0.00904792  0.00788499  0.01437743]\n",
      "19 day output [[0.07780261]]\n",
      "20 day input [ 0.89835165  0.00274725  0.01648352  0.00824176  0.03702473  0.3543956\n",
      "  0.00549451  0.01098901  0.00549451  0.03802775  0.45054945  0.00549451\n",
      "  0.01098901  0.00274725  0.03208379  0.27197802  0.00274725  0.00549451\n",
      "  0.00824176  0.02142995  0.9478022   0.00274725  0.00824176  0.01098901\n",
      "  0.04882225  0.64285714  0.00549451  0.01098901  0.00274725  0.03975742\n",
      "  0.51923077  0.00549451  0.00274725  0.00274725  0.03712582  0.75824176\n",
      "  0.00824176  0.01098901  0.00274725  0.03093599  0.58791209  0.00549451\n",
      "  0.01373626  0.00824176  0.04488242  0.75        0.00824176  0.00274725\n",
      "  0.01098901  0.03407637  0.33241758  0.00549451  0.00824176  0.00549451\n",
      "  0.03296813  0.06318681  0.00274725  0.00824176  0.00824176  0.04680879\n",
      "  0.83516484  0.00824176  0.01098901  0.00549451  0.03288297  0.01373626\n",
      "  0.00274725  0.          0.01098901  0.          0.29120879  0.00274725\n",
      "  0.00549451  0.00274725  0.05089615  0.14285714  0.00274725  0.01098901\n",
      "  0.00549451  0.05131511  0.69625759 -0.02993647 -0.00364241  0.01847458\n",
      "  0.01911467  0.54593289  0.00238512  0.0091427   0.02107451  0.06648957\n",
      "  0.62695301 -0.02394742  0.00255131  0.01414635  0.04566415  0.55534863\n",
      " -0.00904792  0.00788499  0.01437743  0.07780261]\n",
      "20 day output [[0.59439445]]\n",
      "21 day input [ 0.00274725  0.01648352  0.00824176  0.03702473  0.3543956   0.00549451\n",
      "  0.01098901  0.00549451  0.03802775  0.45054945  0.00549451  0.01098901\n",
      "  0.00274725  0.03208379  0.27197802  0.00274725  0.00549451  0.00824176\n",
      "  0.02142995  0.9478022   0.00274725  0.00824176  0.01098901  0.04882225\n",
      "  0.64285714  0.00549451  0.01098901  0.00274725  0.03975742  0.51923077\n",
      "  0.00549451  0.00274725  0.00274725  0.03712582  0.75824176  0.00824176\n",
      "  0.01098901  0.00274725  0.03093599  0.58791209  0.00549451  0.01373626\n",
      "  0.00824176  0.04488242  0.75        0.00824176  0.00274725  0.01098901\n",
      "  0.03407637  0.33241758  0.00549451  0.00824176  0.00549451  0.03296813\n",
      "  0.06318681  0.00274725  0.00824176  0.00824176  0.04680879  0.83516484\n",
      "  0.00824176  0.01098901  0.00549451  0.03288297  0.01373626  0.00274725\n",
      "  0.          0.01098901  0.          0.29120879  0.00274725  0.00549451\n",
      "  0.00274725  0.05089615  0.14285714  0.00274725  0.01098901  0.00549451\n",
      "  0.05131511  0.69625759 -0.02993647 -0.00364241  0.01847458  0.01911467\n",
      "  0.54593289  0.00238512  0.0091427   0.02107451  0.06648957  0.62695301\n",
      " -0.02394742  0.00255131  0.01414635  0.04566415  0.55534863 -0.00904792\n",
      "  0.00788499  0.01437743  0.07780261  0.59439445]\n",
      "21 day output [[-0.02305078]]\n",
      "22 day input [ 0.01648352  0.00824176  0.03702473  0.3543956   0.00549451  0.01098901\n",
      "  0.00549451  0.03802775  0.45054945  0.00549451  0.01098901  0.00274725\n",
      "  0.03208379  0.27197802  0.00274725  0.00549451  0.00824176  0.02142995\n",
      "  0.9478022   0.00274725  0.00824176  0.01098901  0.04882225  0.64285714\n",
      "  0.00549451  0.01098901  0.00274725  0.03975742  0.51923077  0.00549451\n",
      "  0.00274725  0.00274725  0.03712582  0.75824176  0.00824176  0.01098901\n",
      "  0.00274725  0.03093599  0.58791209  0.00549451  0.01373626  0.00824176\n",
      "  0.04488242  0.75        0.00824176  0.00274725  0.01098901  0.03407637\n",
      "  0.33241758  0.00549451  0.00824176  0.00549451  0.03296813  0.06318681\n",
      "  0.00274725  0.00824176  0.00824176  0.04680879  0.83516484  0.00824176\n",
      "  0.01098901  0.00549451  0.03288297  0.01373626  0.00274725  0.\n",
      "  0.01098901  0.          0.29120879  0.00274725  0.00549451  0.00274725\n",
      "  0.05089615  0.14285714  0.00274725  0.01098901  0.00549451  0.05131511\n",
      "  0.69625759 -0.02993647 -0.00364241  0.01847458  0.01911467  0.54593289\n",
      "  0.00238512  0.0091427   0.02107451  0.06648957  0.62695301 -0.02394742\n",
      "  0.00255131  0.01414635  0.04566415  0.55534863 -0.00904792  0.00788499\n",
      "  0.01437743  0.07780261  0.59439445 -0.02305078]\n",
      "22 day output [[0.0054141]]\n",
      "23 day input [ 0.00824176  0.03702473  0.3543956   0.00549451  0.01098901  0.00549451\n",
      "  0.03802775  0.45054945  0.00549451  0.01098901  0.00274725  0.03208379\n",
      "  0.27197802  0.00274725  0.00549451  0.00824176  0.02142995  0.9478022\n",
      "  0.00274725  0.00824176  0.01098901  0.04882225  0.64285714  0.00549451\n",
      "  0.01098901  0.00274725  0.03975742  0.51923077  0.00549451  0.00274725\n",
      "  0.00274725  0.03712582  0.75824176  0.00824176  0.01098901  0.00274725\n",
      "  0.03093599  0.58791209  0.00549451  0.01373626  0.00824176  0.04488242\n",
      "  0.75        0.00824176  0.00274725  0.01098901  0.03407637  0.33241758\n",
      "  0.00549451  0.00824176  0.00549451  0.03296813  0.06318681  0.00274725\n",
      "  0.00824176  0.00824176  0.04680879  0.83516484  0.00824176  0.01098901\n",
      "  0.00549451  0.03288297  0.01373626  0.00274725  0.          0.01098901\n",
      "  0.          0.29120879  0.00274725  0.00549451  0.00274725  0.05089615\n",
      "  0.14285714  0.00274725  0.01098901  0.00549451  0.05131511  0.69625759\n",
      " -0.02993647 -0.00364241  0.01847458  0.01911467  0.54593289  0.00238512\n",
      "  0.0091427   0.02107451  0.06648957  0.62695301 -0.02394742  0.00255131\n",
      "  0.01414635  0.04566415  0.55534863 -0.00904792  0.00788499  0.01437743\n",
      "  0.07780261  0.59439445 -0.02305078  0.0054141 ]\n",
      "23 day output [[0.0099356]]\n",
      "24 day input [ 0.03702473  0.3543956   0.00549451  0.01098901  0.00549451  0.03802775\n",
      "  0.45054945  0.00549451  0.01098901  0.00274725  0.03208379  0.27197802\n",
      "  0.00274725  0.00549451  0.00824176  0.02142995  0.9478022   0.00274725\n",
      "  0.00824176  0.01098901  0.04882225  0.64285714  0.00549451  0.01098901\n",
      "  0.00274725  0.03975742  0.51923077  0.00549451  0.00274725  0.00274725\n",
      "  0.03712582  0.75824176  0.00824176  0.01098901  0.00274725  0.03093599\n",
      "  0.58791209  0.00549451  0.01373626  0.00824176  0.04488242  0.75\n",
      "  0.00824176  0.00274725  0.01098901  0.03407637  0.33241758  0.00549451\n",
      "  0.00824176  0.00549451  0.03296813  0.06318681  0.00274725  0.00824176\n",
      "  0.00824176  0.04680879  0.83516484  0.00824176  0.01098901  0.00549451\n",
      "  0.03288297  0.01373626  0.00274725  0.          0.01098901  0.\n",
      "  0.29120879  0.00274725  0.00549451  0.00274725  0.05089615  0.14285714\n",
      "  0.00274725  0.01098901  0.00549451  0.05131511  0.69625759 -0.02993647\n",
      " -0.00364241  0.01847458  0.01911467  0.54593289  0.00238512  0.0091427\n",
      "  0.02107451  0.06648957  0.62695301 -0.02394742  0.00255131  0.01414635\n",
      "  0.04566415  0.55534863 -0.00904792  0.00788499  0.01437743  0.07780261\n"
     ]
    },
    {
     "name": "stdout",
     "output_type": "stream",
     "text": [
      "  0.59439445 -0.02305078  0.0054141   0.0099356 ]\n",
      "24 day output [[0.07193428]]\n",
      "25 day input [ 0.3543956   0.00549451  0.01098901  0.00549451  0.03802775  0.45054945\n",
      "  0.00549451  0.01098901  0.00274725  0.03208379  0.27197802  0.00274725\n",
      "  0.00549451  0.00824176  0.02142995  0.9478022   0.00274725  0.00824176\n",
      "  0.01098901  0.04882225  0.64285714  0.00549451  0.01098901  0.00274725\n",
      "  0.03975742  0.51923077  0.00549451  0.00274725  0.00274725  0.03712582\n",
      "  0.75824176  0.00824176  0.01098901  0.00274725  0.03093599  0.58791209\n",
      "  0.00549451  0.01373626  0.00824176  0.04488242  0.75        0.00824176\n",
      "  0.00274725  0.01098901  0.03407637  0.33241758  0.00549451  0.00824176\n",
      "  0.00549451  0.03296813  0.06318681  0.00274725  0.00824176  0.00824176\n",
      "  0.04680879  0.83516484  0.00824176  0.01098901  0.00549451  0.03288297\n",
      "  0.01373626  0.00274725  0.          0.01098901  0.          0.29120879\n",
      "  0.00274725  0.00549451  0.00274725  0.05089615  0.14285714  0.00274725\n",
      "  0.01098901  0.00549451  0.05131511  0.69625759 -0.02993647 -0.00364241\n",
      "  0.01847458  0.01911467  0.54593289  0.00238512  0.0091427   0.02107451\n",
      "  0.06648957  0.62695301 -0.02394742  0.00255131  0.01414635  0.04566415\n",
      "  0.55534863 -0.00904792  0.00788499  0.01437743  0.07780261  0.59439445\n",
      " -0.02305078  0.0054141   0.0099356   0.07193428]\n",
      "25 day output [[0.55954766]]\n",
      "26 day input [ 0.00549451  0.01098901  0.00549451  0.03802775  0.45054945  0.00549451\n",
      "  0.01098901  0.00274725  0.03208379  0.27197802  0.00274725  0.00549451\n",
      "  0.00824176  0.02142995  0.9478022   0.00274725  0.00824176  0.01098901\n",
      "  0.04882225  0.64285714  0.00549451  0.01098901  0.00274725  0.03975742\n",
      "  0.51923077  0.00549451  0.00274725  0.00274725  0.03712582  0.75824176\n",
      "  0.00824176  0.01098901  0.00274725  0.03093599  0.58791209  0.00549451\n",
      "  0.01373626  0.00824176  0.04488242  0.75        0.00824176  0.00274725\n",
      "  0.01098901  0.03407637  0.33241758  0.00549451  0.00824176  0.00549451\n",
      "  0.03296813  0.06318681  0.00274725  0.00824176  0.00824176  0.04680879\n",
      "  0.83516484  0.00824176  0.01098901  0.00549451  0.03288297  0.01373626\n",
      "  0.00274725  0.          0.01098901  0.          0.29120879  0.00274725\n",
      "  0.00549451  0.00274725  0.05089615  0.14285714  0.00274725  0.01098901\n",
      "  0.00549451  0.05131511  0.69625759 -0.02993647 -0.00364241  0.01847458\n",
      "  0.01911467  0.54593289  0.00238512  0.0091427   0.02107451  0.06648957\n",
      "  0.62695301 -0.02394742  0.00255131  0.01414635  0.04566415  0.55534863\n",
      " -0.00904792  0.00788499  0.01437743  0.07780261  0.59439445 -0.02305078\n",
      "  0.0054141   0.0099356   0.07193428  0.55954766]\n",
      "26 day output [[-0.01325023]]\n",
      "27 day input [ 0.01098901  0.00549451  0.03802775  0.45054945  0.00549451  0.01098901\n",
      "  0.00274725  0.03208379  0.27197802  0.00274725  0.00549451  0.00824176\n",
      "  0.02142995  0.9478022   0.00274725  0.00824176  0.01098901  0.04882225\n",
      "  0.64285714  0.00549451  0.01098901  0.00274725  0.03975742  0.51923077\n",
      "  0.00549451  0.00274725  0.00274725  0.03712582  0.75824176  0.00824176\n",
      "  0.01098901  0.00274725  0.03093599  0.58791209  0.00549451  0.01373626\n",
      "  0.00824176  0.04488242  0.75        0.00824176  0.00274725  0.01098901\n",
      "  0.03407637  0.33241758  0.00549451  0.00824176  0.00549451  0.03296813\n",
      "  0.06318681  0.00274725  0.00824176  0.00824176  0.04680879  0.83516484\n",
      "  0.00824176  0.01098901  0.00549451  0.03288297  0.01373626  0.00274725\n",
      "  0.          0.01098901  0.          0.29120879  0.00274725  0.00549451\n",
      "  0.00274725  0.05089615  0.14285714  0.00274725  0.01098901  0.00549451\n",
      "  0.05131511  0.69625759 -0.02993647 -0.00364241  0.01847458  0.01911467\n",
      "  0.54593289  0.00238512  0.0091427   0.02107451  0.06648957  0.62695301\n",
      " -0.02394742  0.00255131  0.01414635  0.04566415  0.55534863 -0.00904792\n",
      "  0.00788499  0.01437743  0.07780261  0.59439445 -0.02305078  0.0054141\n",
      "  0.0099356   0.07193428  0.55954766 -0.01325023]\n",
      "27 day output [[0.00883152]]\n",
      "28 day input [ 0.00549451  0.03802775  0.45054945  0.00549451  0.01098901  0.00274725\n",
      "  0.03208379  0.27197802  0.00274725  0.00549451  0.00824176  0.02142995\n",
      "  0.9478022   0.00274725  0.00824176  0.01098901  0.04882225  0.64285714\n",
      "  0.00549451  0.01098901  0.00274725  0.03975742  0.51923077  0.00549451\n",
      "  0.00274725  0.00274725  0.03712582  0.75824176  0.00824176  0.01098901\n",
      "  0.00274725  0.03093599  0.58791209  0.00549451  0.01373626  0.00824176\n",
      "  0.04488242  0.75        0.00824176  0.00274725  0.01098901  0.03407637\n",
      "  0.33241758  0.00549451  0.00824176  0.00549451  0.03296813  0.06318681\n",
      "  0.00274725  0.00824176  0.00824176  0.04680879  0.83516484  0.00824176\n",
      "  0.01098901  0.00549451  0.03288297  0.01373626  0.00274725  0.\n",
      "  0.01098901  0.          0.29120879  0.00274725  0.00549451  0.00274725\n",
      "  0.05089615  0.14285714  0.00274725  0.01098901  0.00549451  0.05131511\n",
      "  0.69625759 -0.02993647 -0.00364241  0.01847458  0.01911467  0.54593289\n",
      "  0.00238512  0.0091427   0.02107451  0.06648957  0.62695301 -0.02394742\n",
      "  0.00255131  0.01414635  0.04566415  0.55534863 -0.00904792  0.00788499\n",
      "  0.01437743  0.07780261  0.59439445 -0.02305078  0.0054141   0.0099356\n",
      "  0.07193428  0.55954766 -0.01325023  0.00883152]\n",
      "28 day output [[0.0109096]]\n",
      "29 day input [ 0.03802775  0.45054945  0.00549451  0.01098901  0.00274725  0.03208379\n",
      "  0.27197802  0.00274725  0.00549451  0.00824176  0.02142995  0.9478022\n",
      "  0.00274725  0.00824176  0.01098901  0.04882225  0.64285714  0.00549451\n",
      "  0.01098901  0.00274725  0.03975742  0.51923077  0.00549451  0.00274725\n",
      "  0.00274725  0.03712582  0.75824176  0.00824176  0.01098901  0.00274725\n",
      "  0.03093599  0.58791209  0.00549451  0.01373626  0.00824176  0.04488242\n",
      "  0.75        0.00824176  0.00274725  0.01098901  0.03407637  0.33241758\n",
      "  0.00549451  0.00824176  0.00549451  0.03296813  0.06318681  0.00274725\n",
      "  0.00824176  0.00824176  0.04680879  0.83516484  0.00824176  0.01098901\n",
      "  0.00549451  0.03288297  0.01373626  0.00274725  0.          0.01098901\n",
      "  0.          0.29120879  0.00274725  0.00549451  0.00274725  0.05089615\n",
      "  0.14285714  0.00274725  0.01098901  0.00549451  0.05131511  0.69625759\n",
      " -0.02993647 -0.00364241  0.01847458  0.01911467  0.54593289  0.00238512\n",
      "  0.0091427   0.02107451  0.06648957  0.62695301 -0.02394742  0.00255131\n",
      "  0.01414635  0.04566415  0.55534863 -0.00904792  0.00788499  0.01437743\n",
      "  0.07780261  0.59439445 -0.02305078  0.0054141   0.0099356   0.07193428\n",
      "  0.55954766 -0.01325023  0.00883152  0.0109096 ]\n",
      "29 day output [[0.09442729]]\n",
      "[[0.6962575912475586], [-0.029936470091342926], [-0.0036424100399017334], [0.018474580720067024], [0.019114665687084198], [0.5459328889846802], [0.0023851171135902405], [0.009142696857452393], [0.021074507385492325], [0.0664895698428154], [0.6269530057907104], [-0.023947417736053467], [0.0025513097643852234], [0.014146354049444199], [0.04566415399312973], [0.5553486347198486], [-0.009047918021678925], [0.007884986698627472], [0.014377426356077194], [0.07780260592699051], [0.5943944454193115], [-0.02305077761411667], [0.005414102226495743], [0.00993560254573822], [0.071934275329113], [0.5595476627349854], [-0.013250228017568588], [0.00883151963353157], [0.01090959645807743], [0.09442728757858276]]\n"
     ]
    }
   ],
   "source": [
    "# demonstrate prediction for next 30 days\n",
    "from numpy import array\n",
    "\n",
    "lst_output=[]\n",
    "n_steps=100\n",
    "i=0\n",
    "while(i<30):\n",
    "    \n",
    "    if(len(temp_input)>100):\n",
    "        #print(temp_input)\n",
    "        x_input=np.array(temp_input[1:])\n",
    "        print(\"{} day input {}\".format(i,x_input))\n",
    "        x_input=x_input.reshape(1,-1)\n",
    "        x_input = x_input.reshape((1, n_steps, 1))\n",
    "        #print(x_input)\n",
    "        yhat = model.predict(x_input, verbose=0)\n",
    "        print(\"{} day output {}\".format(i,yhat))\n",
    "        temp_input.extend(yhat[0].tolist())\n",
    "        temp_input=temp_input[1:]\n",
    "        #print(temp_input)\n",
    "        lst_output.extend(yhat.tolist())\n",
    "        i=i+1\n",
    "    else:\n",
    "        x_input = x_input.reshape((1, n_steps,1))\n",
    "        yhat = model.predict(x_input, verbose=0)\n",
    "        print(yhat[0])\n",
    "        temp_input.extend(yhat[0].tolist())\n",
    "        print(len(temp_input))\n",
    "        lst_output.extend(yhat.tolist())\n",
    "        i=i+1\n",
    "    \n",
    "\n",
    "print(lst_output)\n"
   ]
  },
  {
   "cell_type": "code",
   "execution_count": 33,
   "metadata": {},
   "outputs": [],
   "source": [
    "day_new=np.arange(1,101)\n",
    "day_pred=np.arange(101,131)"
   ]
  },
  {
   "cell_type": "code",
   "execution_count": 34,
   "metadata": {},
   "outputs": [
    {
     "data": {
      "text/plain": [
       "1755"
      ]
     },
     "execution_count": 34,
     "metadata": {},
     "output_type": "execute_result"
    }
   ],
   "source": [
    "import matplotlib.pyplot as plt\n",
    "len(df1)"
   ]
  },
  {
   "cell_type": "code",
   "execution_count": 35,
   "metadata": {},
   "outputs": [
    {
     "data": {
      "text/plain": [
       "[<matplotlib.lines.Line2D at 0x1e365ba94c8>]"
      ]
     },
     "execution_count": 35,
     "metadata": {},
     "output_type": "execute_result"
    },
    {
     "data": {
      "image/png": "[encoded data removed]",
      "text/plain": [
       "<Figure size 432x288 with 1 Axes>"
      ]
     },
     "metadata": {
      "needs_background": "light"
     },
     "output_type": "display_data"
    }
   ],
   "source": [
    "plt.plot(day_new,scaler.inverse_transform(df1[1655:]))\n",
    "plt.plot(day_pred,scaler.inverse_transform(lst_output))"
   ]
  },
  {
   "cell_type": "code",
   "execution_count": 36,
   "metadata": {},
   "outputs": [
    {
     "data": {
      "text/plain": [
       "[<matplotlib.lines.Line2D at 0x1e365c8c488>]"
      ]
     },
     "execution_count": 36,
     "metadata": {},
     "output_type": "execute_result"
    },
    {
     "data": {
      "image/png": "[encoded data removed]",
      "text/plain": [
       "<Figure size 432x288 with 1 Axes>"
      ]
     },
     "metadata": {
      "needs_background": "light"
     },
     "output_type": "display_data"
    }
   ],
   "source": [
    "df3=df1.tolist()\n",
    "df3.extend(lst_output)\n",
    "plt.plot(df3[1700:])"
   ]
  },
  {
   "cell_type": "code",
   "execution_count": 37,
   "metadata": {},
   "outputs": [
    {
     "data": {
      "text/plain": [
       "514"
      ]
     },
     "execution_count": 37,
     "metadata": {},
     "output_type": "execute_result"
    }
   ],
   "source": [
    "len(ytest)"
   ]
  },
  {
   "cell_type": "code",
   "execution_count": 38,
   "metadata": {},
   "outputs": [
    {
     "data": {
      "text/plain": [
       "Text(0, 0.5, 'travel times')"
      ]
     },
     "execution_count": 38,
     "metadata": {},
     "output_type": "execute_result"
    },
    {
     "data": {
      "image/png": "[encoded data removed]",
      "text/plain": [
       "<Figure size 432x288 with 1 Axes>"
      ]
     },
     "metadata": {
      "needs_background": "light"
     },
     "output_type": "display_data"
    }
   ],
   "source": [
    "#Actual vs Predicted\n",
    "c = [i for i in range(1,515,1)]\n",
    "fig = plt.figure()\n",
    "plt.plot(c,ytest, color=\"blue\", linewidth=2.5, linestyle=\"-\")\n",
    "plt.plot(c,test_predict, color=\"red\",  linewidth=2.5, linestyle=\"-\")\n",
    "fig.suptitle('Actual and Predicted', fontsize=20)              # Plot heading \n",
    "plt.xlabel('Index', fontsize=18)                               # X-label\n",
    "plt.ylabel('travel times', fontsize=16)                               # Y-label"
   ]
  },
  {
   "cell_type": "code",
   "execution_count": 39,
   "metadata": {},
   "outputs": [
    {
     "data": {
      "text/plain": [
       "Text(0, 0.5, 'ytest-ypred')"
      ]
     },
     "execution_count": 39,
     "metadata": {},
     "output_type": "execute_result"
    },
    {
     "data": {
      "image/png": "[encoded data removed]",
      "text/plain": [
       "<Figure size 432x288 with 1 Axes>"
      ]
     },
     "metadata": {
      "needs_background": "light"
     },
     "output_type": "display_data"
    }
   ],
   "source": [
    "# Error terms\n",
    "c = [i for i in range(1,515,1)]\n",
    "fig = plt.figure()\n",
    "plt.plot(c,ytest-test_predict, color=\"blue\", linewidth=2.5, linestyle=\"-\")\n",
    "fig.suptitle('Error Terms', fontsize=20)              # Plot heading \n",
    "plt.xlabel('Index', fontsize=18)                      # X-label\n",
    "plt.ylabel('ytest-ypred', fontsize=16)                # Y-label"
   ]
  },
  {
   "cell_type": "code",
   "execution_count": null,
   "metadata": {},
   "outputs": [],
   "source": []
  }
 ],
 "metadata": {
  "kernelspec": {
   "display_name": "Python 3",
   "language": "python",
   "name": "python3"
  },
  "language_info": {
   "codemirror_mode": {
    "name": "ipython",
    "version": 3
   },
   "file_extension": ".py",
   "mimetype": "text/x-python",
   "name": "python",
   "nbconvert_exporter": "python",
   "pygments_lexer": "ipython3",
   "version": "3.7.6"
  }
 },
 "nbformat": 4,
 "nbformat_minor": 4
}
